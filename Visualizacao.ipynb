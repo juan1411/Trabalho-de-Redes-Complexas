{
 "cells": [
  {
   "attachments": {},
   "cell_type": "markdown",
   "metadata": {},
   "source": [
    "# Projeto de Redes Complexas \n",
    "\n",
    "## Integrantes\n",
    "\n",
    "- Akemi \n",
    "- Caio Vinicius de Oliveira, Nº USP: 11932272\n",
    "- Emerson\n",
    "- Juan Lucas Montanaro, Nº USP: 11912787"
   ]
  },
  {
   "attachments": {},
   "cell_type": "markdown",
   "metadata": {},
   "source": [
    "---------------------------------------------------------------------------"
   ]
  },
  {
   "attachments": {},
   "cell_type": "markdown",
   "metadata": {},
   "source": [
    "## Qual tipo de rede é mais adequado para redes sociais?"
   ]
  },
  {
   "attachments": {},
   "cell_type": "markdown",
   "metadata": {},
   "source": [
    "Primeiro passo, rodamos uma simulação em python que baixa 3 redes sociais :\n",
    "\n",
    "- Adolescente : Cada nó é uma pessoa e as conexões ocorrem se ela se diz amiga de outra pessoa\n",
    "- Facebook : Cada nó é um usuário e as conexões ocorrem se um usuário é amigo do outro\n",
    "- Hamsterster : Cada nó é um usuário e as conexões ocorrem se um usuário é amigo do outro\n",
    "\n",
    "Após isso, para esses 3 modelos, simulamos 3 modelos de redes (BA,ER,WS) e calculamos várias medidas características para essas redes,\n",
    "sendo elas:\n",
    "\n",
    "- Grau Médio\n",
    "- Assortatividade\n",
    "- Coeficiente de Clusterização\n",
    "- Transitividade\n",
    "- Entropia de Shannon\n",
    "\n"
   ]
  },
  {
   "cell_type": "code",
   "execution_count": 1,
   "metadata": {},
   "outputs": [],
   "source": [
    "# importações\n",
    "from numpy import *\n",
    "import numpy as np\n",
    "import matplotlib.pyplot as plt\n",
    "import plotly.express as px\n",
    "import networkx as nx\n",
    "\n",
    "from CONSTANTES import *\n",
    "from simulacao import *\n",
    "\n",
    "from sklearn.decomposition import PCA\n",
    "from sklearn.ensemble import RandomForestClassifier\n",
    "from sklearn.model_selection import train_test_split\n",
    "from sklearn.model_selection import KFold, cross_val_score, cross_validate\n",
    "from sklearn.metrics import accuracy_score\n",
    "\n",
    "import pandas as pd\n",
    "import seaborn as sns"
   ]
  },
  {
   "cell_type": "code",
   "execution_count": 2,
   "metadata": {},
   "outputs": [
    {
     "name": "stdout",
     "output_type": "stream",
     "text": [
      "\n",
      "# Iniciando simulações do Modelo Erdos-renyi #\n",
      "\n",
      "Rede Social -- twitter-pequeno\n",
      "N: 23370, <k>: 2.8097\n",
      "Tempo com a rede: 0.12 segs.\n",
      "\n",
      "\n",
      "Começando agora a compilar o arquivo de rede real [twitter-pequeno] com os resultados.\n",
      "Començando as simulações para a rede twitter-pequeno \n",
      "\n",
      "Twitter-pequeno \tSimulação #5 \tOK\n",
      "Twitter-pequeno \tMedidas #5 \tOK\n",
      "Twitter-pequeno \tSimulação #4 \tOK\n",
      "Twitter-pequeno \tMedidas #4 \tOK\n",
      "Twitter-pequeno \tSimulação #2 \tOK\n",
      "Twitter-pequeno \tMedidas #2 \tOK\n",
      "Twitter-pequeno \tSimulação #1 \tOK\n",
      "Twitter-pequeno \tMedidas #1 \tOK\n",
      "Twitter-pequeno \tSimulação #3 \tOK\n",
      "Twitter-pequeno \tMedidas #3 \tOK\n",
      "Twitter-pequeno \tSimulação #10 \tOK\n",
      "Twitter-pequeno \tMedidas #10 \tOK\n",
      "Twitter-pequeno \tSimulação #8 \tOK\n",
      "Twitter-pequeno \tMedidas #8 \tOK\n",
      "Twitter-pequeno \tSimulação #6 \tOK\n",
      "Twitter-pequeno \tMedidas #6 \tOK\n",
      "Twitter-pequeno \tSimulação #9 \tOK\n",
      "Twitter-pequeno \tMedidas #9 \tOK\n",
      "Twitter-pequeno \tSimulação #7 \tOK\n",
      "Twitter-pequeno \tMedidas #7 \tOK\n",
      "\n",
      "Fim das simulações para a rede twitter-pequeno\n",
      "Tempo de simulação: 0 mins e 53.68 segs.\n",
      "\n",
      "Rede Social -- facebook\n",
      "N: 2888, <k>: 2.0644\n",
      "Tempo com a rede: 0.01 segs.\n",
      "\n",
      "\n",
      "Começando agora a compilar o arquivo de rede real [facebook] com os resultados.\n",
      "Començando as simulações para a rede facebook \n",
      "\n",
      "Facebook \tSimulação #2 \tOK\n",
      "Facebook \tMedidas #2 \tOK\n",
      "Facebook \tSimulação #4 \tOK\n",
      "Facebook \tMedidas #4 \tOK\n",
      "Facebook \tSimulação #5 \tOK\n",
      "Facebook \tMedidas #5 \tOK\n",
      "Facebook \tSimulação #3 \tOK\n",
      "Facebook \tMedidas #3 \tOK\n",
      "Facebook \tSimulação #1 \tOK\n",
      "Facebook \tMedidas #1 \tOK\n",
      "Facebook \tSimulação #6 \tOK\n",
      "Facebook \tMedidas #6 \tOK\n",
      "Facebook \tSimulação #7 \tOK\n",
      "Facebook \tMedidas #7 \tOK\n",
      "Facebook \tSimulação #9 \tOK\n",
      "Facebook \tMedidas #9 \tOK\n",
      "Facebook \tSimulação #8 \tOK\n",
      "Facebook \tMedidas #8 \tOK\n",
      "Facebook \tSimulação #10 \tOK\n",
      "Facebook \tMedidas #10 \tOK\n",
      "\n",
      "Fim das simulações para a rede facebook\n",
      "Tempo de simulação: 0 mins e 2.00 segs.\n",
      "\n",
      "Rede Social -- hamster\n",
      "N: 2426, <k>: 13.7106\n",
      "Tempo com a rede: 0.04 segs.\n",
      "\n",
      "\n",
      "Começando agora a compilar o arquivo de rede real [hamster] com os resultados.\n",
      "Començando as simulações para a rede hamster \n",
      "\n",
      "Hamster \tSimulação #2 \tOK\n",
      "Hamster \tMedidas #2 \tOK\n",
      "Hamster \tSimulação #1 \tOK\n",
      "Hamster \tMedidas #1 \tOK\n",
      "Hamster \tSimulação #4 \tOK\n",
      "Hamster \tMedidas #4 \tOK\n",
      "Hamster \tSimulação #3 \tOK\n",
      "Hamster \tMedidas #3 \tOK\n",
      "Hamster \tSimulação #5 \tOK\n",
      "Hamster \tMedidas #5 \tOK\n",
      "Hamster \tSimulação #7 \tOK\n",
      "Hamster \tMedidas #7 \tOK\n",
      "Hamster \tSimulação #6 \tOK\n",
      "Hamster \tMedidas #6 \tOK\n",
      "Hamster \tSimulação #9 \tOK\n",
      "Hamster \tMedidas #9 \tOK\n",
      "Hamster \tSimulação #8 \tOK\n",
      "Hamster \tMedidas #8 \tOK\n",
      "Hamster \tSimulação #10 \tOK\n",
      "Hamster \tMedidas #10 \tOK\n",
      "\n",
      "Fim das simulações para a rede hamster\n",
      "Tempo de simulação: 0 mins e 3.17 segs.\n",
      "\n",
      "Fim de todas as simulações. Tempo total: 0 mins e 58.85 segs.\n",
      "\n",
      "Começando agora a compilar o arquivo [Modelo_erdos-renyi.csv] com os resultados.\n",
      "Fim da compilação dos resultados.\n",
      "Tempo de compilação: 0.00 segs.\n",
      "\n",
      "Fim de todas as simulações do modelo Erdos-renyi para todas as redes sociais.\n",
      "Tempo necessário para executar tudo: 0 mins e 59.95 segs.\n",
      "\n",
      "\n",
      "# Iniciando simulações do Modelo Barabasi-albert #\n",
      "\n",
      "Rede Social -- twitter-pequeno\n",
      "N: 23370, <k>: 2.8097\n",
      "Tempo com a rede: 0.06 segs.\n",
      "\n",
      "\n",
      "Começando agora a compilar o arquivo de rede real [twitter-pequeno] com os resultados.\n",
      "Començando as simulações para a rede twitter-pequeno \n",
      "\n",
      "Twitter-pequeno \tSimulação #2 \tOK\n",
      "Twitter-pequeno \tMedidas #2 \tOK\n",
      "Twitter-pequeno \tSimulação #1 \tOK\n",
      "Twitter-pequeno \tMedidas #1 \tOK\n",
      "Twitter-pequeno \tSimulação #5 \tOK\n",
      "Twitter-pequeno \tMedidas #5 \tOK\n",
      "Twitter-pequeno \tSimulação #3 \tOK\n",
      "Twitter-pequeno \tMedidas #3 \tOK\n",
      "Twitter-pequeno \tSimulação #4 \tOK\n",
      "Twitter-pequeno \tMedidas #4 \tOK\n",
      "Twitter-pequeno \tSimulação #6 \tOK\n",
      "Twitter-pequeno \tMedidas #6 \tOK\n",
      "Twitter-pequeno \tSimulação #7 \tOK\n",
      "Twitter-pequeno \tMedidas #7 \tOK\n",
      "Twitter-pequeno \tSimulação #8 \tOK\n",
      "Twitter-pequeno \tMedidas #8 \tOK\n",
      "Twitter-pequeno \tSimulação #9 \tOK\n",
      "Twitter-pequeno \tMedidas #9 \tOK\n",
      "Twitter-pequeno \tSimulação #10 \tOK\n",
      "Twitter-pequeno \tMedidas #10 \tOK\n",
      "\n",
      "Fim das simulações para a rede twitter-pequeno\n",
      "Tempo de simulação: 0 mins e 5.12 segs.\n",
      "\n",
      "Rede Social -- facebook\n",
      "N: 2888, <k>: 2.0644\n",
      "Tempo com a rede: 0.01 segs.\n",
      "\n",
      "\n",
      "Começando agora a compilar o arquivo de rede real [facebook] com os resultados.\n",
      "Començando as simulações para a rede facebook \n",
      "\n",
      "Facebook \tSimulação #1 \tOK\n",
      "Facebook \tMedidas #1 \tOK\n",
      "Facebook \tSimulação #6 \tOK\n",
      "Facebook \tMedidas #6 \tOK\n",
      "Facebook \tSimulação #2 \tOK\n",
      "Facebook \tMedidas #2 \tOK\n",
      "Facebook \tSimulação #3 \tOK\n",
      "Facebook \tMedidas #3 \tOK\n",
      "Facebook \tSimulação #4 \tOK\n",
      "Facebook \tMedidas #4 \tOK\n",
      "Facebook \tSimulação #5 \tOK\n",
      "Facebook \tMedidas #5 \tOK\n",
      "Facebook \tSimulação #7 \tOK\n",
      "Facebook \tMedidas #7 \tOK\n",
      "Facebook \tSimulação #8 \tOK\n",
      "Facebook \tMedidas #8 \tOK\n",
      "Facebook \tSimulação #9 \tOK\n",
      "Facebook \tMedidas #9 \tOK\n",
      "Facebook \tSimulação #10 \tOK\n",
      "Facebook \tMedidas #10 \tOK\n",
      "\n",
      "Fim das simulações para a rede facebook\n",
      "Tempo de simulação: 0 mins e 1.41 segs.\n",
      "\n",
      "Rede Social -- hamster\n",
      "N: 2426, <k>: 13.7106\n",
      "Tempo com a rede: 0.02 segs.\n",
      "\n",
      "\n",
      "Começando agora a compilar o arquivo de rede real [hamster] com os resultados.\n",
      "Començando as simulações para a rede hamster \n",
      "\n",
      "Hamster \tSimulação #1 \tOK\n",
      "Hamster \tMedidas #1 \tOK\n",
      "Hamster \tSimulação #2 \tOK\n",
      "Hamster \tMedidas #2 \tOK\n",
      "Hamster \tSimulação #4 \tOK\n",
      "Hamster \tMedidas #4 \tOK\n",
      "Hamster \tSimulação #5 \tOK\n",
      "Hamster \tMedidas #5 \tOK\n",
      "Hamster \tSimulação #3 \tOK\n",
      "Hamster \tMedidas #3 \tOK\n",
      "Hamster \tSimulação #6 \tOK\n",
      "Hamster \tMedidas #6 \tOK\n",
      "Hamster \tSimulação #7 \tOK\n",
      "Hamster \tMedidas #7 \tOK\n",
      "Hamster \tSimulação #8 \tOK\n",
      "Hamster \tMedidas #8 \tOK\n",
      "Hamster \tSimulação #9 \tOK\n",
      "Hamster \tMedidas #9 \tOK\n",
      "Hamster \tSimulação #10 \tOK\n",
      "Hamster \tMedidas #10 \tOK\n",
      "\n",
      "Fim das simulações para a rede hamster\n",
      "Tempo de simulação: 0 mins e 2.94 segs.\n",
      "\n",
      "Fim de todas as simulações. Tempo total: 0 mins e 9.47 segs.\n",
      "\n",
      "Começando agora a compilar o arquivo [Modelo_barabasi-albert.csv] com os resultados.\n",
      "Fim da compilação dos resultados.\n",
      "Tempo de compilação: 0.00 segs.\n",
      "\n",
      "Fim de todas as simulações do modelo Barabasi-albert para todas as redes sociais.\n",
      "Tempo necessário para executar tudo: 0 mins e 10.53 segs.\n",
      "\n",
      "\n",
      "# Iniciando simulações do Modelo Watts_strogatz_graph #\n",
      "\n",
      "Rede Social -- twitter-pequeno\n",
      "N: 23370, <k>: 2.8097\n",
      "Tempo com a rede: 0.06 segs.\n",
      "\n",
      "\n",
      "Começando agora a compilar o arquivo de rede real [twitter-pequeno] com os resultados.\n",
      "Començando as simulações para a rede twitter-pequeno \n",
      "\n",
      "Twitter-pequeno \tSimulação #1 \tOK\n",
      "Twitter-pequeno \tMedidas #1 \tOK\n",
      "Twitter-pequeno \tSimulação #3 \tOK\n",
      "Twitter-pequeno \tMedidas #3 \tOK\n",
      "Twitter-pequeno \tSimulação #2 \tOK\n",
      "Twitter-pequeno \tMedidas #2 \tOK\n",
      "Twitter-pequeno \tSimulação #4 \tOK\n",
      "Twitter-pequeno \tMedidas #4 \tOK\n",
      "Twitter-pequeno \tSimulação #5 \tOK\n",
      "Twitter-pequeno \tMedidas #5 \tOK\n",
      "Twitter-pequeno \tSimulação #6 \tOK\n",
      "Twitter-pequeno \tMedidas #6 \tOK\n",
      "Twitter-pequeno \tSimulação #7 \tOK\n",
      "Twitter-pequeno \tMedidas #7 \tOK\n",
      "Twitter-pequeno \tSimulação #8 \tOK\n",
      "Twitter-pequeno \tMedidas #8 \tOK\n",
      "Twitter-pequeno \tSimulação #9 \tOK\n",
      "Twitter-pequeno \tMedidas #9 \tOK\n",
      "Twitter-pequeno \tSimulação #10 \tOK\n",
      "Twitter-pequeno \tMedidas #10 \tOK\n",
      "\n",
      "Fim das simulações para a rede twitter-pequeno\n",
      "Tempo de simulação: 0 mins e 4.82 segs.\n",
      "\n",
      "Rede Social -- facebook\n",
      "N: 2888, <k>: 2.0644\n",
      "Tempo com a rede: 0.01 segs.\n",
      "\n",
      "\n",
      "Começando agora a compilar o arquivo de rede real [facebook] com os resultados.\n",
      "Començando as simulações para a rede facebook \n",
      "\n",
      "Facebook \tSimulação #1 \tOK\n",
      "Facebook \tMedidas #1 \tOK\n",
      "Facebook \tSimulação #3 \tOK\n",
      "Facebook \tMedidas #3 \tOK\n",
      "Facebook \tSimulação #2 \tOK\n",
      "Facebook \tMedidas #2 \tOK\n",
      "Facebook \tSimulação #6 \tOK\n",
      "Facebook \tMedidas #6 \tOK\n",
      "Facebook \tSimulação #7 \tOK\n",
      "Facebook \tMedidas #7 \tOK\n",
      "Facebook \tSimulação #8 \tOK\n",
      "Facebook \tMedidas #8 \tOK\n",
      "Facebook \tSimulação #4 \tOK\n",
      "Facebook \tMedidas #4 \tOK\n",
      "Facebook \tSimulação #5 \tOK\n",
      "Facebook \tMedidas #5 \tOK\n",
      "Facebook \tSimulação #9 \tOK\n",
      "Facebook \tMedidas #9 \tOK\n",
      "Facebook \tSimulação #10 \tOK\n",
      "Facebook \tMedidas #10 \tOK\n",
      "\n",
      "Fim das simulações para a rede facebook\n",
      "Tempo de simulação: 0 mins e 1.51 segs.\n",
      "\n",
      "Rede Social -- hamster\n",
      "N: 2426, <k>: 13.7106\n",
      "Tempo com a rede: 0.02 segs.\n",
      "\n",
      "\n",
      "Começando agora a compilar o arquivo de rede real [hamster] com os resultados.\n",
      "Començando as simulações para a rede hamster \n",
      "\n",
      "Hamster \tSimulação #1 \tOK\n",
      "Hamster \tMedidas #1 \tOK\n",
      "Hamster \tSimulação #2 \tOK\n",
      "Hamster \tMedidas #2 \tOK\n",
      "Hamster \tSimulação #3 \tOK\n",
      "Hamster \tMedidas #3 \tOK\n",
      "Hamster \tSimulação #4 \tOK\n",
      "Hamster \tMedidas #4 \tOK\n",
      "Hamster \tSimulação #6 \tOK\n",
      "Hamster \tMedidas #6 \tOK\n",
      "Hamster \tSimulação #5 \tOK\n",
      "Hamster \tMedidas #5 \tOK\n",
      "Hamster \tSimulação #7 \tOK\n",
      "Hamster \tMedidas #7 \tOK\n",
      "Hamster \tSimulação #8 \tOK\n",
      "Hamster \tMedidas #8 \tOK\n",
      "Hamster \tSimulação #9 \tOK\n",
      "Hamster \tMedidas #9 \tOK\n",
      "Hamster \tSimulação #10 \tOK\n",
      "Hamster \tMedidas #10 \tOK\n",
      "\n",
      "Fim das simulações para a rede hamster\n",
      "Tempo de simulação: 0 mins e 2.32 segs.\n",
      "\n",
      "Fim de todas as simulações. Tempo total: 0 mins e 8.65 segs.\n",
      "\n",
      "Começando agora a compilar o arquivo [Modelo_watts_strogatz_graph.csv] com os resultados.\n",
      "Fim da compilação dos resultados.\n",
      "Tempo de compilação: 0.00 segs.\n",
      "\n",
      "Fim de todas as simulações do modelo Watts_strogatz_graph para todas as redes sociais.\n",
      "Tempo necessário para executar tudo: 0 mins e 9.72 segs.\n",
      "\n"
     ]
    }
   ],
   "source": [
    "opcoes = list(SIMULE.keys())\n",
    "for modelo in opcoes:\n",
    "    main(modelo)"
   ]
  },
  {
   "attachments": {},
   "cell_type": "markdown",
   "metadata": {},
   "source": [
    "### Leitura e Tratamento dos dados"
   ]
  },
  {
   "cell_type": "code",
   "execution_count": 3,
   "metadata": {},
   "outputs": [],
   "source": [
    "df_ba = pd.read_csv('./Modelo_barabasi-albert.csv')\n",
    "df_ba['modelo_rede'] = 'BA'\n",
    "\n",
    "df_er = pd.read_csv('./Modelo_barabasi-albert.csv')\n",
    "df_er['modelo_rede'] = 'ER'\n",
    "\n",
    "df_ws = pd.read_csv('./Modelo_barabasi-albert.csv')\n",
    "df_ws['modelo_rede'] = 'WS'"
   ]
  },
  {
   "attachments": {},
   "cell_type": "markdown",
   "metadata": {},
   "source": [
    "### Rodando um PCA para as Variáveis de Interesse"
   ]
  },
  {
   "cell_type": "code",
   "execution_count": 4,
   "metadata": {},
   "outputs": [
    {
     "data": {
      "text/html": [
       "<style>#sk-container-id-1 {color: black;background-color: white;}#sk-container-id-1 pre{padding: 0;}#sk-container-id-1 div.sk-toggleable {background-color: white;}#sk-container-id-1 label.sk-toggleable__label {cursor: pointer;display: block;width: 100%;margin-bottom: 0;padding: 0.3em;box-sizing: border-box;text-align: center;}#sk-container-id-1 label.sk-toggleable__label-arrow:before {content: \"▸\";float: left;margin-right: 0.25em;color: #696969;}#sk-container-id-1 label.sk-toggleable__label-arrow:hover:before {color: black;}#sk-container-id-1 div.sk-estimator:hover label.sk-toggleable__label-arrow:before {color: black;}#sk-container-id-1 div.sk-toggleable__content {max-height: 0;max-width: 0;overflow: hidden;text-align: left;background-color: #f0f8ff;}#sk-container-id-1 div.sk-toggleable__content pre {margin: 0.2em;color: black;border-radius: 0.25em;background-color: #f0f8ff;}#sk-container-id-1 input.sk-toggleable__control:checked~div.sk-toggleable__content {max-height: 200px;max-width: 100%;overflow: auto;}#sk-container-id-1 input.sk-toggleable__control:checked~label.sk-toggleable__label-arrow:before {content: \"▾\";}#sk-container-id-1 div.sk-estimator input.sk-toggleable__control:checked~label.sk-toggleable__label {background-color: #d4ebff;}#sk-container-id-1 div.sk-label input.sk-toggleable__control:checked~label.sk-toggleable__label {background-color: #d4ebff;}#sk-container-id-1 input.sk-hidden--visually {border: 0;clip: rect(1px 1px 1px 1px);clip: rect(1px, 1px, 1px, 1px);height: 1px;margin: -1px;overflow: hidden;padding: 0;position: absolute;width: 1px;}#sk-container-id-1 div.sk-estimator {font-family: monospace;background-color: #f0f8ff;border: 1px dotted black;border-radius: 0.25em;box-sizing: border-box;margin-bottom: 0.5em;}#sk-container-id-1 div.sk-estimator:hover {background-color: #d4ebff;}#sk-container-id-1 div.sk-parallel-item::after {content: \"\";width: 100%;border-bottom: 1px solid gray;flex-grow: 1;}#sk-container-id-1 div.sk-label:hover label.sk-toggleable__label {background-color: #d4ebff;}#sk-container-id-1 div.sk-serial::before {content: \"\";position: absolute;border-left: 1px solid gray;box-sizing: border-box;top: 0;bottom: 0;left: 50%;z-index: 0;}#sk-container-id-1 div.sk-serial {display: flex;flex-direction: column;align-items: center;background-color: white;padding-right: 0.2em;padding-left: 0.2em;position: relative;}#sk-container-id-1 div.sk-item {position: relative;z-index: 1;}#sk-container-id-1 div.sk-parallel {display: flex;align-items: stretch;justify-content: center;background-color: white;position: relative;}#sk-container-id-1 div.sk-item::before, #sk-container-id-1 div.sk-parallel-item::before {content: \"\";position: absolute;border-left: 1px solid gray;box-sizing: border-box;top: 0;bottom: 0;left: 50%;z-index: -1;}#sk-container-id-1 div.sk-parallel-item {display: flex;flex-direction: column;z-index: 1;position: relative;background-color: white;}#sk-container-id-1 div.sk-parallel-item:first-child::after {align-self: flex-end;width: 50%;}#sk-container-id-1 div.sk-parallel-item:last-child::after {align-self: flex-start;width: 50%;}#sk-container-id-1 div.sk-parallel-item:only-child::after {width: 0;}#sk-container-id-1 div.sk-dashed-wrapped {border: 1px dashed gray;margin: 0 0.4em 0.5em 0.4em;box-sizing: border-box;padding-bottom: 0.4em;background-color: white;}#sk-container-id-1 div.sk-label label {font-family: monospace;font-weight: bold;display: inline-block;line-height: 1.2em;}#sk-container-id-1 div.sk-label-container {text-align: center;}#sk-container-id-1 div.sk-container {/* jupyter's `normalize.less` sets `[hidden] { display: none; }` but bootstrap.min.css set `[hidden] { display: none !important; }` so we also need the `!important` here to be able to override the default hidden behavior on the sphinx rendered scikit-learn.org. See: https://github.com/scikit-learn/scikit-learn/issues/21755 */display: inline-block !important;position: relative;}#sk-container-id-1 div.sk-text-repr-fallback {display: none;}</style><div id=\"sk-container-id-1\" class=\"sk-top-container\"><div class=\"sk-text-repr-fallback\"><pre>PCA(n_components=2)</pre><b>In a Jupyter environment, please rerun this cell to show the HTML representation or trust the notebook. <br />On GitHub, the HTML representation is unable to render, please try loading this page with nbviewer.org.</b></div><div class=\"sk-container\" hidden><div class=\"sk-item\"><div class=\"sk-estimator sk-toggleable\"><input class=\"sk-toggleable__control sk-hidden--visually\" id=\"sk-estimator-id-1\" type=\"checkbox\" checked><label for=\"sk-estimator-id-1\" class=\"sk-toggleable__label sk-toggleable__label-arrow\">PCA</label><div class=\"sk-toggleable__content\"><pre>PCA(n_components=2)</pre></div></div></div></div></div>"
      ],
      "text/plain": [
       "PCA(n_components=2)"
      ]
     },
     "execution_count": 4,
     "metadata": {},
     "output_type": "execute_result"
    }
   ],
   "source": [
    "df = pd.concat([df_ba,df_er,df_ws], axis=0, ignore_index=True)\n",
    "df\n",
    "\n",
    "\n",
    "X = df.drop(columns=['grau_medio','Rede Social','Iteracao','modelo_rede'])\n",
    "y = df[['modelo_rede']]\n",
    "\n",
    "# pca\n",
    "pca = PCA(n_components=2)\n",
    "pca.fit(X)"
   ]
  },
  {
   "cell_type": "code",
   "execution_count": 5,
   "metadata": {},
   "outputs": [
    {
     "name": "stdout",
     "output_type": "stream",
     "text": [
      "Auto-valores:\n",
      "[9.95437027e-01 4.01388527e-04]\n",
      "\n",
      "Auto-vetores:\n",
      "[[ 0.01490314  0.01099532  0.00860653  0.99979144]\n",
      " [-0.99983935  0.00996604  0.00188663  0.01477802]]\n",
      "\n",
      "Variância explicada:\n",
      "[9.99595929e-01 4.03065515e-04]\n",
      "\n"
     ]
    }
   ],
   "source": [
    "print(\"Auto-valores:\")\n",
    "print(pca.explained_variance_)\n",
    "print()\n",
    "\n",
    "print(\"Auto-vetores:\")\n",
    "print(pca.components_)\n",
    "print()\n",
    "\n",
    "print(\"Variância explicada:\")\n",
    "print(pca.explained_variance_ratio_)\n",
    "print()"
   ]
  },
  {
   "cell_type": "code",
   "execution_count": 6,
   "metadata": {},
   "outputs": [],
   "source": [
    "# Tranformando X\n",
    "X1 = pca.transform(X)\n",
    "# Visualizando\n",
    "new_df = pd.DataFrame(X1, columns = ['pc1','pc2'])\n",
    "new_df['modelo_rede'] = df['modelo_rede']"
   ]
  },
  {
   "cell_type": "code",
   "execution_count": 8,
   "metadata": {},
   "outputs": [
    {
     "data": {
      "application/vnd.plotly.v1+json": {
       "config": {
        "plotlyServerURL": "https://plot.ly"
       },
       "data": [
        {
         "hovertemplate": "modelo_rede=BA<br>pc1=%{x}<br>pc2=%{y}<extra></extra>",
         "legendgroup": "BA",
         "marker": {
          "color": "#636efa",
          "symbol": "circle"
         },
         "mode": "markers",
         "name": "BA",
         "orientation": "v",
         "showlegend": true,
         "type": "scatter",
         "x": [
          -0.7045394400664782,
          -0.7025485506039055,
          -0.6882854919621936,
          -0.6879527104136431,
          -0.6922856620422729,
          -0.6993039313433497,
          -0.6888635399812911,
          -0.6964456793145891,
          -0.7008790226916476,
          -0.687535869060236,
          -0.7127428012639444,
          -0.6910630370940863,
          -0.6932938378397232,
          -0.710568990912553,
          -0.7278105967927097,
          -0.697654627547801,
          -0.7281349996549392,
          -0.6900567470305435,
          -0.700680895745558,
          -0.729420505042582,
          1.3973987766115068,
          1.39323788483682,
          1.4212998981528955,
          1.3986453135844914,
          1.3922101539263567,
          1.4273326798659929,
          1.4004135880708592,
          1.3921936806222546,
          1.4065816692945468,
          1.4007532914383358
         ],
         "xaxis": "x",
         "y": [
          -0.010361822879521787,
          0.0010423679659438561,
          -0.03340480792996561,
          -0.02137406775666245,
          -0.014367449657622149,
          -0.014738196451431571,
          -0.028110169482172386,
          -0.0365889706007589,
          -0.022997203711409012,
          -0.022472499288245823,
          0.018614519004725553,
          0.005598254364280962,
          0.02708327555674123,
          0.026854868744165948,
          0.020585104089805992,
          -0.006532667047599086,
          0.022615253346378282,
          0.04429882687749471,
          0.00871289308160689,
          0.033467785784461135,
          0.007344736013715887,
          0.004081691335361418,
          -0.008594781203050255,
          -0.0024352946729244863,
          0.01132216166217907,
          -0.018785411119351468,
          0.0010045820913739678,
          0.006033554613753849,
          0.0014444374411151394,
          0.0006590298276111757
         ],
         "yaxis": "y"
        },
        {
         "hovertemplate": "modelo_rede=ER<br>pc1=%{x}<br>pc2=%{y}<extra></extra>",
         "legendgroup": "ER",
         "marker": {
          "color": "#EF553B",
          "symbol": "circle"
         },
         "mode": "markers",
         "name": "ER",
         "orientation": "v",
         "showlegend": true,
         "type": "scatter",
         "x": [
          -0.7045394400664782,
          -0.7025485506039055,
          -0.6882854919621936,
          -0.6879527104136431,
          -0.6922856620422729,
          -0.6993039313433497,
          -0.6888635399812911,
          -0.6964456793145891,
          -0.7008790226916476,
          -0.687535869060236,
          -0.7127428012639444,
          -0.6910630370940863,
          -0.6932938378397232,
          -0.710568990912553,
          -0.7278105967927097,
          -0.697654627547801,
          -0.7281349996549392,
          -0.6900567470305435,
          -0.700680895745558,
          -0.729420505042582,
          1.3973987766115068,
          1.39323788483682,
          1.4212998981528955,
          1.3986453135844914,
          1.3922101539263567,
          1.4273326798659929,
          1.4004135880708592,
          1.3921936806222546,
          1.4065816692945468,
          1.4007532914383358
         ],
         "xaxis": "x",
         "y": [
          -0.010361822879521787,
          0.0010423679659438561,
          -0.03340480792996561,
          -0.02137406775666245,
          -0.014367449657622149,
          -0.014738196451431571,
          -0.028110169482172386,
          -0.0365889706007589,
          -0.022997203711409012,
          -0.022472499288245823,
          0.018614519004725553,
          0.005598254364280962,
          0.02708327555674123,
          0.026854868744165948,
          0.020585104089805992,
          -0.006532667047599086,
          0.022615253346378282,
          0.04429882687749471,
          0.00871289308160689,
          0.033467785784461135,
          0.007344736013715887,
          0.004081691335361418,
          -0.008594781203050255,
          -0.0024352946729244863,
          0.01132216166217907,
          -0.018785411119351468,
          0.0010045820913739678,
          0.006033554613753849,
          0.0014444374411151394,
          0.0006590298276111757
         ],
         "yaxis": "y"
        },
        {
         "hovertemplate": "modelo_rede=WS<br>pc1=%{x}<br>pc2=%{y}<extra></extra>",
         "legendgroup": "WS",
         "marker": {
          "color": "#00cc96",
          "symbol": "circle"
         },
         "mode": "markers",
         "name": "WS",
         "orientation": "v",
         "showlegend": true,
         "type": "scatter",
         "x": [
          -0.7045394400664782,
          -0.7025485506039055,
          -0.6882854919621936,
          -0.6879527104136431,
          -0.6922856620422729,
          -0.6993039313433497,
          -0.6888635399812911,
          -0.6964456793145891,
          -0.7008790226916476,
          -0.687535869060236,
          -0.7127428012639444,
          -0.6910630370940863,
          -0.6932938378397232,
          -0.710568990912553,
          -0.7278105967927097,
          -0.697654627547801,
          -0.7281349996549392,
          -0.6900567470305435,
          -0.700680895745558,
          -0.729420505042582,
          1.3973987766115068,
          1.39323788483682,
          1.4212998981528955,
          1.3986453135844914,
          1.3922101539263567,
          1.4273326798659929,
          1.4004135880708592,
          1.3921936806222546,
          1.4065816692945468,
          1.4007532914383358
         ],
         "xaxis": "x",
         "y": [
          -0.010361822879521787,
          0.0010423679659438561,
          -0.03340480792996561,
          -0.02137406775666245,
          -0.014367449657622149,
          -0.014738196451431571,
          -0.028110169482172386,
          -0.0365889706007589,
          -0.022997203711409012,
          -0.022472499288245823,
          0.018614519004725553,
          0.005598254364280962,
          0.02708327555674123,
          0.026854868744165948,
          0.020585104089805992,
          -0.006532667047599086,
          0.022615253346378282,
          0.04429882687749471,
          0.00871289308160689,
          0.033467785784461135,
          0.007344736013715887,
          0.004081691335361418,
          -0.008594781203050255,
          -0.0024352946729244863,
          0.01132216166217907,
          -0.018785411119351468,
          0.0010045820913739678,
          0.006033554613753849,
          0.0014444374411151394,
          0.0006590298276111757
         ],
         "yaxis": "y"
        }
       ],
       "layout": {
        "legend": {
         "title": {
          "text": "modelo_rede"
         },
         "tracegroupgap": 0
        },
        "margin": {
         "t": 60
        },
        "template": {
         "data": {
          "bar": [
           {
            "error_x": {
             "color": "#2a3f5f"
            },
            "error_y": {
             "color": "#2a3f5f"
            },
            "marker": {
             "line": {
              "color": "#E5ECF6",
              "width": 0.5
             },
             "pattern": {
              "fillmode": "overlay",
              "size": 10,
              "solidity": 0.2
             }
            },
            "type": "bar"
           }
          ],
          "barpolar": [
           {
            "marker": {
             "line": {
              "color": "#E5ECF6",
              "width": 0.5
             },
             "pattern": {
              "fillmode": "overlay",
              "size": 10,
              "solidity": 0.2
             }
            },
            "type": "barpolar"
           }
          ],
          "carpet": [
           {
            "aaxis": {
             "endlinecolor": "#2a3f5f",
             "gridcolor": "white",
             "linecolor": "white",
             "minorgridcolor": "white",
             "startlinecolor": "#2a3f5f"
            },
            "baxis": {
             "endlinecolor": "#2a3f5f",
             "gridcolor": "white",
             "linecolor": "white",
             "minorgridcolor": "white",
             "startlinecolor": "#2a3f5f"
            },
            "type": "carpet"
           }
          ],
          "choropleth": [
           {
            "colorbar": {
             "outlinewidth": 0,
             "ticks": ""
            },
            "type": "choropleth"
           }
          ],
          "contour": [
           {
            "colorbar": {
             "outlinewidth": 0,
             "ticks": ""
            },
            "colorscale": [
             [
              0,
              "#0d0887"
             ],
             [
              0.1111111111111111,
              "#46039f"
             ],
             [
              0.2222222222222222,
              "#7201a8"
             ],
             [
              0.3333333333333333,
              "#9c179e"
             ],
             [
              0.4444444444444444,
              "#bd3786"
             ],
             [
              0.5555555555555556,
              "#d8576b"
             ],
             [
              0.6666666666666666,
              "#ed7953"
             ],
             [
              0.7777777777777778,
              "#fb9f3a"
             ],
             [
              0.8888888888888888,
              "#fdca26"
             ],
             [
              1,
              "#f0f921"
             ]
            ],
            "type": "contour"
           }
          ],
          "contourcarpet": [
           {
            "colorbar": {
             "outlinewidth": 0,
             "ticks": ""
            },
            "type": "contourcarpet"
           }
          ],
          "heatmap": [
           {
            "colorbar": {
             "outlinewidth": 0,
             "ticks": ""
            },
            "colorscale": [
             [
              0,
              "#0d0887"
             ],
             [
              0.1111111111111111,
              "#46039f"
             ],
             [
              0.2222222222222222,
              "#7201a8"
             ],
             [
              0.3333333333333333,
              "#9c179e"
             ],
             [
              0.4444444444444444,
              "#bd3786"
             ],
             [
              0.5555555555555556,
              "#d8576b"
             ],
             [
              0.6666666666666666,
              "#ed7953"
             ],
             [
              0.7777777777777778,
              "#fb9f3a"
             ],
             [
              0.8888888888888888,
              "#fdca26"
             ],
             [
              1,
              "#f0f921"
             ]
            ],
            "type": "heatmap"
           }
          ],
          "heatmapgl": [
           {
            "colorbar": {
             "outlinewidth": 0,
             "ticks": ""
            },
            "colorscale": [
             [
              0,
              "#0d0887"
             ],
             [
              0.1111111111111111,
              "#46039f"
             ],
             [
              0.2222222222222222,
              "#7201a8"
             ],
             [
              0.3333333333333333,
              "#9c179e"
             ],
             [
              0.4444444444444444,
              "#bd3786"
             ],
             [
              0.5555555555555556,
              "#d8576b"
             ],
             [
              0.6666666666666666,
              "#ed7953"
             ],
             [
              0.7777777777777778,
              "#fb9f3a"
             ],
             [
              0.8888888888888888,
              "#fdca26"
             ],
             [
              1,
              "#f0f921"
             ]
            ],
            "type": "heatmapgl"
           }
          ],
          "histogram": [
           {
            "marker": {
             "pattern": {
              "fillmode": "overlay",
              "size": 10,
              "solidity": 0.2
             }
            },
            "type": "histogram"
           }
          ],
          "histogram2d": [
           {
            "colorbar": {
             "outlinewidth": 0,
             "ticks": ""
            },
            "colorscale": [
             [
              0,
              "#0d0887"
             ],
             [
              0.1111111111111111,
              "#46039f"
             ],
             [
              0.2222222222222222,
              "#7201a8"
             ],
             [
              0.3333333333333333,
              "#9c179e"
             ],
             [
              0.4444444444444444,
              "#bd3786"
             ],
             [
              0.5555555555555556,
              "#d8576b"
             ],
             [
              0.6666666666666666,
              "#ed7953"
             ],
             [
              0.7777777777777778,
              "#fb9f3a"
             ],
             [
              0.8888888888888888,
              "#fdca26"
             ],
             [
              1,
              "#f0f921"
             ]
            ],
            "type": "histogram2d"
           }
          ],
          "histogram2dcontour": [
           {
            "colorbar": {
             "outlinewidth": 0,
             "ticks": ""
            },
            "colorscale": [
             [
              0,
              "#0d0887"
             ],
             [
              0.1111111111111111,
              "#46039f"
             ],
             [
              0.2222222222222222,
              "#7201a8"
             ],
             [
              0.3333333333333333,
              "#9c179e"
             ],
             [
              0.4444444444444444,
              "#bd3786"
             ],
             [
              0.5555555555555556,
              "#d8576b"
             ],
             [
              0.6666666666666666,
              "#ed7953"
             ],
             [
              0.7777777777777778,
              "#fb9f3a"
             ],
             [
              0.8888888888888888,
              "#fdca26"
             ],
             [
              1,
              "#f0f921"
             ]
            ],
            "type": "histogram2dcontour"
           }
          ],
          "mesh3d": [
           {
            "colorbar": {
             "outlinewidth": 0,
             "ticks": ""
            },
            "type": "mesh3d"
           }
          ],
          "parcoords": [
           {
            "line": {
             "colorbar": {
              "outlinewidth": 0,
              "ticks": ""
             }
            },
            "type": "parcoords"
           }
          ],
          "pie": [
           {
            "automargin": true,
            "type": "pie"
           }
          ],
          "scatter": [
           {
            "fillpattern": {
             "fillmode": "overlay",
             "size": 10,
             "solidity": 0.2
            },
            "type": "scatter"
           }
          ],
          "scatter3d": [
           {
            "line": {
             "colorbar": {
              "outlinewidth": 0,
              "ticks": ""
             }
            },
            "marker": {
             "colorbar": {
              "outlinewidth": 0,
              "ticks": ""
             }
            },
            "type": "scatter3d"
           }
          ],
          "scattercarpet": [
           {
            "marker": {
             "colorbar": {
              "outlinewidth": 0,
              "ticks": ""
             }
            },
            "type": "scattercarpet"
           }
          ],
          "scattergeo": [
           {
            "marker": {
             "colorbar": {
              "outlinewidth": 0,
              "ticks": ""
             }
            },
            "type": "scattergeo"
           }
          ],
          "scattergl": [
           {
            "marker": {
             "colorbar": {
              "outlinewidth": 0,
              "ticks": ""
             }
            },
            "type": "scattergl"
           }
          ],
          "scattermapbox": [
           {
            "marker": {
             "colorbar": {
              "outlinewidth": 0,
              "ticks": ""
             }
            },
            "type": "scattermapbox"
           }
          ],
          "scatterpolar": [
           {
            "marker": {
             "colorbar": {
              "outlinewidth": 0,
              "ticks": ""
             }
            },
            "type": "scatterpolar"
           }
          ],
          "scatterpolargl": [
           {
            "marker": {
             "colorbar": {
              "outlinewidth": 0,
              "ticks": ""
             }
            },
            "type": "scatterpolargl"
           }
          ],
          "scatterternary": [
           {
            "marker": {
             "colorbar": {
              "outlinewidth": 0,
              "ticks": ""
             }
            },
            "type": "scatterternary"
           }
          ],
          "surface": [
           {
            "colorbar": {
             "outlinewidth": 0,
             "ticks": ""
            },
            "colorscale": [
             [
              0,
              "#0d0887"
             ],
             [
              0.1111111111111111,
              "#46039f"
             ],
             [
              0.2222222222222222,
              "#7201a8"
             ],
             [
              0.3333333333333333,
              "#9c179e"
             ],
             [
              0.4444444444444444,
              "#bd3786"
             ],
             [
              0.5555555555555556,
              "#d8576b"
             ],
             [
              0.6666666666666666,
              "#ed7953"
             ],
             [
              0.7777777777777778,
              "#fb9f3a"
             ],
             [
              0.8888888888888888,
              "#fdca26"
             ],
             [
              1,
              "#f0f921"
             ]
            ],
            "type": "surface"
           }
          ],
          "table": [
           {
            "cells": {
             "fill": {
              "color": "#EBF0F8"
             },
             "line": {
              "color": "white"
             }
            },
            "header": {
             "fill": {
              "color": "#C8D4E3"
             },
             "line": {
              "color": "white"
             }
            },
            "type": "table"
           }
          ]
         },
         "layout": {
          "annotationdefaults": {
           "arrowcolor": "#2a3f5f",
           "arrowhead": 0,
           "arrowwidth": 1
          },
          "autotypenumbers": "strict",
          "coloraxis": {
           "colorbar": {
            "outlinewidth": 0,
            "ticks": ""
           }
          },
          "colorscale": {
           "diverging": [
            [
             0,
             "#8e0152"
            ],
            [
             0.1,
             "#c51b7d"
            ],
            [
             0.2,
             "#de77ae"
            ],
            [
             0.3,
             "#f1b6da"
            ],
            [
             0.4,
             "#fde0ef"
            ],
            [
             0.5,
             "#f7f7f7"
            ],
            [
             0.6,
             "#e6f5d0"
            ],
            [
             0.7,
             "#b8e186"
            ],
            [
             0.8,
             "#7fbc41"
            ],
            [
             0.9,
             "#4d9221"
            ],
            [
             1,
             "#276419"
            ]
           ],
           "sequential": [
            [
             0,
             "#0d0887"
            ],
            [
             0.1111111111111111,
             "#46039f"
            ],
            [
             0.2222222222222222,
             "#7201a8"
            ],
            [
             0.3333333333333333,
             "#9c179e"
            ],
            [
             0.4444444444444444,
             "#bd3786"
            ],
            [
             0.5555555555555556,
             "#d8576b"
            ],
            [
             0.6666666666666666,
             "#ed7953"
            ],
            [
             0.7777777777777778,
             "#fb9f3a"
            ],
            [
             0.8888888888888888,
             "#fdca26"
            ],
            [
             1,
             "#f0f921"
            ]
           ],
           "sequentialminus": [
            [
             0,
             "#0d0887"
            ],
            [
             0.1111111111111111,
             "#46039f"
            ],
            [
             0.2222222222222222,
             "#7201a8"
            ],
            [
             0.3333333333333333,
             "#9c179e"
            ],
            [
             0.4444444444444444,
             "#bd3786"
            ],
            [
             0.5555555555555556,
             "#d8576b"
            ],
            [
             0.6666666666666666,
             "#ed7953"
            ],
            [
             0.7777777777777778,
             "#fb9f3a"
            ],
            [
             0.8888888888888888,
             "#fdca26"
            ],
            [
             1,
             "#f0f921"
            ]
           ]
          },
          "colorway": [
           "#636efa",
           "#EF553B",
           "#00cc96",
           "#ab63fa",
           "#FFA15A",
           "#19d3f3",
           "#FF6692",
           "#B6E880",
           "#FF97FF",
           "#FECB52"
          ],
          "font": {
           "color": "#2a3f5f"
          },
          "geo": {
           "bgcolor": "white",
           "lakecolor": "white",
           "landcolor": "#E5ECF6",
           "showlakes": true,
           "showland": true,
           "subunitcolor": "white"
          },
          "hoverlabel": {
           "align": "left"
          },
          "hovermode": "closest",
          "mapbox": {
           "style": "light"
          },
          "paper_bgcolor": "white",
          "plot_bgcolor": "#E5ECF6",
          "polar": {
           "angularaxis": {
            "gridcolor": "white",
            "linecolor": "white",
            "ticks": ""
           },
           "bgcolor": "#E5ECF6",
           "radialaxis": {
            "gridcolor": "white",
            "linecolor": "white",
            "ticks": ""
           }
          },
          "scene": {
           "xaxis": {
            "backgroundcolor": "#E5ECF6",
            "gridcolor": "white",
            "gridwidth": 2,
            "linecolor": "white",
            "showbackground": true,
            "ticks": "",
            "zerolinecolor": "white"
           },
           "yaxis": {
            "backgroundcolor": "#E5ECF6",
            "gridcolor": "white",
            "gridwidth": 2,
            "linecolor": "white",
            "showbackground": true,
            "ticks": "",
            "zerolinecolor": "white"
           },
           "zaxis": {
            "backgroundcolor": "#E5ECF6",
            "gridcolor": "white",
            "gridwidth": 2,
            "linecolor": "white",
            "showbackground": true,
            "ticks": "",
            "zerolinecolor": "white"
           }
          },
          "shapedefaults": {
           "line": {
            "color": "#2a3f5f"
           }
          },
          "ternary": {
           "aaxis": {
            "gridcolor": "white",
            "linecolor": "white",
            "ticks": ""
           },
           "baxis": {
            "gridcolor": "white",
            "linecolor": "white",
            "ticks": ""
           },
           "bgcolor": "#E5ECF6",
           "caxis": {
            "gridcolor": "white",
            "linecolor": "white",
            "ticks": ""
           }
          },
          "title": {
           "x": 0.05
          },
          "xaxis": {
           "automargin": true,
           "gridcolor": "white",
           "linecolor": "white",
           "ticks": "",
           "title": {
            "standoff": 15
           },
           "zerolinecolor": "white",
           "zerolinewidth": 2
          },
          "yaxis": {
           "automargin": true,
           "gridcolor": "white",
           "linecolor": "white",
           "ticks": "",
           "title": {
            "standoff": 15
           },
           "zerolinecolor": "white",
           "zerolinewidth": 2
          }
         }
        },
        "xaxis": {
         "anchor": "y",
         "domain": [
          0,
          1
         ],
         "title": {
          "text": "pc1"
         }
        },
        "yaxis": {
         "anchor": "x",
         "domain": [
          0,
          1
         ],
         "title": {
          "text": "pc2"
         }
        }
       }
      }
     },
     "metadata": {},
     "output_type": "display_data"
    }
   ],
   "source": [
    "fig = px.scatter(new_df,x = 'pc1', y = 'pc2', color = 'modelo_rede')\n",
    "fig.show()"
   ]
  },
  {
   "cell_type": "markdown",
   "metadata": {},
   "source": [
    "## Treinando um Classificador para a Rede em Questão"
   ]
  },
  {
   "cell_type": "code",
   "execution_count": 9,
   "metadata": {},
   "outputs": [
    {
     "name": "stderr",
     "output_type": "stream",
     "text": [
      "c:\\Users\\caiov\\AppData\\Local\\Programs\\Python\\Python311\\Lib\\site-packages\\sklearn\\model_selection\\_validation.py:686: DataConversionWarning:\n",
      "\n",
      "A column-vector y was passed when a 1d array was expected. Please change the shape of y to (n_samples,), for example using ravel().\n",
      "\n",
      "c:\\Users\\caiov\\AppData\\Local\\Programs\\Python\\Python311\\Lib\\site-packages\\sklearn\\model_selection\\_validation.py:686: DataConversionWarning:\n",
      "\n",
      "A column-vector y was passed when a 1d array was expected. Please change the shape of y to (n_samples,), for example using ravel().\n",
      "\n",
      "c:\\Users\\caiov\\AppData\\Local\\Programs\\Python\\Python311\\Lib\\site-packages\\sklearn\\model_selection\\_validation.py:686: DataConversionWarning:\n",
      "\n",
      "A column-vector y was passed when a 1d array was expected. Please change the shape of y to (n_samples,), for example using ravel().\n",
      "\n",
      "c:\\Users\\caiov\\AppData\\Local\\Programs\\Python\\Python311\\Lib\\site-packages\\sklearn\\model_selection\\_validation.py:686: DataConversionWarning:\n",
      "\n",
      "A column-vector y was passed when a 1d array was expected. Please change the shape of y to (n_samples,), for example using ravel().\n",
      "\n",
      "c:\\Users\\caiov\\AppData\\Local\\Programs\\Python\\Python311\\Lib\\site-packages\\sklearn\\model_selection\\_validation.py:686: DataConversionWarning:\n",
      "\n",
      "A column-vector y was passed when a 1d array was expected. Please change the shape of y to (n_samples,), for example using ravel().\n",
      "\n"
     ]
    }
   ],
   "source": [
    "X = new_df[['pc1','pc2']]\n",
    "y = new_df[['modelo_rede']]\n",
    "\n",
    "model = RandomForestClassifier()\n",
    "scores = cross_val_score(model, X, y, cv=5, scoring='accuracy')"
   ]
  },
  {
   "cell_type": "code",
   "execution_count": 10,
   "metadata": {},
   "outputs": [
    {
     "name": "stdout",
     "output_type": "stream",
     "text": [
      "Accuracy: 0.33 (+/- 0.00)\n"
     ]
    }
   ],
   "source": [
    "# Results\n",
    "print(\"Accuracy: %0.2f (+/- %0.2f)\" % (scores.mean(), scores.std() * 2))\n",
    "#podemos melhorar"
   ]
  },
  {
   "cell_type": "code",
   "execution_count": 11,
   "metadata": {},
   "outputs": [
    {
     "name": "stderr",
     "output_type": "stream",
     "text": [
      "C:\\Users\\caiov\\AppData\\Local\\Temp\\ipykernel_116196\\1298606489.py:1: DataConversionWarning:\n",
      "\n",
      "A column-vector y was passed when a 1d array was expected. Please change the shape of y to (n_samples,), for example using ravel().\n",
      "\n"
     ]
    },
    {
     "data": {
      "text/html": [
       "<style>#sk-container-id-2 {color: black;background-color: white;}#sk-container-id-2 pre{padding: 0;}#sk-container-id-2 div.sk-toggleable {background-color: white;}#sk-container-id-2 label.sk-toggleable__label {cursor: pointer;display: block;width: 100%;margin-bottom: 0;padding: 0.3em;box-sizing: border-box;text-align: center;}#sk-container-id-2 label.sk-toggleable__label-arrow:before {content: \"▸\";float: left;margin-right: 0.25em;color: #696969;}#sk-container-id-2 label.sk-toggleable__label-arrow:hover:before {color: black;}#sk-container-id-2 div.sk-estimator:hover label.sk-toggleable__label-arrow:before {color: black;}#sk-container-id-2 div.sk-toggleable__content {max-height: 0;max-width: 0;overflow: hidden;text-align: left;background-color: #f0f8ff;}#sk-container-id-2 div.sk-toggleable__content pre {margin: 0.2em;color: black;border-radius: 0.25em;background-color: #f0f8ff;}#sk-container-id-2 input.sk-toggleable__control:checked~div.sk-toggleable__content {max-height: 200px;max-width: 100%;overflow: auto;}#sk-container-id-2 input.sk-toggleable__control:checked~label.sk-toggleable__label-arrow:before {content: \"▾\";}#sk-container-id-2 div.sk-estimator input.sk-toggleable__control:checked~label.sk-toggleable__label {background-color: #d4ebff;}#sk-container-id-2 div.sk-label input.sk-toggleable__control:checked~label.sk-toggleable__label {background-color: #d4ebff;}#sk-container-id-2 input.sk-hidden--visually {border: 0;clip: rect(1px 1px 1px 1px);clip: rect(1px, 1px, 1px, 1px);height: 1px;margin: -1px;overflow: hidden;padding: 0;position: absolute;width: 1px;}#sk-container-id-2 div.sk-estimator {font-family: monospace;background-color: #f0f8ff;border: 1px dotted black;border-radius: 0.25em;box-sizing: border-box;margin-bottom: 0.5em;}#sk-container-id-2 div.sk-estimator:hover {background-color: #d4ebff;}#sk-container-id-2 div.sk-parallel-item::after {content: \"\";width: 100%;border-bottom: 1px solid gray;flex-grow: 1;}#sk-container-id-2 div.sk-label:hover label.sk-toggleable__label {background-color: #d4ebff;}#sk-container-id-2 div.sk-serial::before {content: \"\";position: absolute;border-left: 1px solid gray;box-sizing: border-box;top: 0;bottom: 0;left: 50%;z-index: 0;}#sk-container-id-2 div.sk-serial {display: flex;flex-direction: column;align-items: center;background-color: white;padding-right: 0.2em;padding-left: 0.2em;position: relative;}#sk-container-id-2 div.sk-item {position: relative;z-index: 1;}#sk-container-id-2 div.sk-parallel {display: flex;align-items: stretch;justify-content: center;background-color: white;position: relative;}#sk-container-id-2 div.sk-item::before, #sk-container-id-2 div.sk-parallel-item::before {content: \"\";position: absolute;border-left: 1px solid gray;box-sizing: border-box;top: 0;bottom: 0;left: 50%;z-index: -1;}#sk-container-id-2 div.sk-parallel-item {display: flex;flex-direction: column;z-index: 1;position: relative;background-color: white;}#sk-container-id-2 div.sk-parallel-item:first-child::after {align-self: flex-end;width: 50%;}#sk-container-id-2 div.sk-parallel-item:last-child::after {align-self: flex-start;width: 50%;}#sk-container-id-2 div.sk-parallel-item:only-child::after {width: 0;}#sk-container-id-2 div.sk-dashed-wrapped {border: 1px dashed gray;margin: 0 0.4em 0.5em 0.4em;box-sizing: border-box;padding-bottom: 0.4em;background-color: white;}#sk-container-id-2 div.sk-label label {font-family: monospace;font-weight: bold;display: inline-block;line-height: 1.2em;}#sk-container-id-2 div.sk-label-container {text-align: center;}#sk-container-id-2 div.sk-container {/* jupyter's `normalize.less` sets `[hidden] { display: none; }` but bootstrap.min.css set `[hidden] { display: none !important; }` so we also need the `!important` here to be able to override the default hidden behavior on the sphinx rendered scikit-learn.org. See: https://github.com/scikit-learn/scikit-learn/issues/21755 */display: inline-block !important;position: relative;}#sk-container-id-2 div.sk-text-repr-fallback {display: none;}</style><div id=\"sk-container-id-2\" class=\"sk-top-container\"><div class=\"sk-text-repr-fallback\"><pre>RandomForestClassifier()</pre><b>In a Jupyter environment, please rerun this cell to show the HTML representation or trust the notebook. <br />On GitHub, the HTML representation is unable to render, please try loading this page with nbviewer.org.</b></div><div class=\"sk-container\" hidden><div class=\"sk-item\"><div class=\"sk-estimator sk-toggleable\"><input class=\"sk-toggleable__control sk-hidden--visually\" id=\"sk-estimator-id-2\" type=\"checkbox\" checked><label for=\"sk-estimator-id-2\" class=\"sk-toggleable__label sk-toggleable__label-arrow\">RandomForestClassifier</label><div class=\"sk-toggleable__content\"><pre>RandomForestClassifier()</pre></div></div></div></div></div>"
      ],
      "text/plain": [
       "RandomForestClassifier()"
      ]
     },
     "execution_count": 11,
     "metadata": {},
     "output_type": "execute_result"
    }
   ],
   "source": [
    "model.fit(X,y)"
   ]
  },
  {
   "cell_type": "markdown",
   "metadata": {},
   "source": [
    "### Rodar as redes reais - transformar o PCA e fazer a predição para descobrir qual modelo ela mais se adequa"
   ]
  },
  {
   "cell_type": "code",
   "execution_count": 12,
   "metadata": {},
   "outputs": [],
   "source": [
    "fac = pd.read_csv('./rede_real_facebook.csv')\n",
    "\n",
    "ham = pd.read_csv('./rede_real_hamster.csv')\n",
    "\n",
    "tt = pd.read_csv('./rede_real_twitter-pequeno.csv')\n",
    "\n",
    "df_real = pd.concat([fac,ham,tt], axis=0, ignore_index=True)\n",
    "df_real = df_real.drop(columns='grau_medio')\n"
   ]
  },
  {
   "cell_type": "code",
   "execution_count": 13,
   "metadata": {},
   "outputs": [
    {
     "data": {
      "text/html": [
       "<div>\n",
       "<style scoped>\n",
       "    .dataframe tbody tr th:only-of-type {\n",
       "        vertical-align: middle;\n",
       "    }\n",
       "\n",
       "    .dataframe tbody tr th {\n",
       "        vertical-align: top;\n",
       "    }\n",
       "\n",
       "    .dataframe thead th {\n",
       "        text-align: right;\n",
       "    }\n",
       "</style>\n",
       "<table border=\"1\" class=\"dataframe\">\n",
       "  <thead>\n",
       "    <tr style=\"text-align: right;\">\n",
       "      <th></th>\n",
       "      <th>pc1</th>\n",
       "      <th>pc2</th>\n",
       "    </tr>\n",
       "  </thead>\n",
       "  <tbody>\n",
       "    <tr>\n",
       "      <th>0</th>\n",
       "      <td>-2.192877</td>\n",
       "      <td>0.576732</td>\n",
       "    </tr>\n",
       "    <tr>\n",
       "      <th>1</th>\n",
       "      <td>2.555829</td>\n",
       "      <td>-0.063327</td>\n",
       "    </tr>\n",
       "    <tr>\n",
       "      <th>2</th>\n",
       "      <td>-0.991300</td>\n",
       "      <td>0.404698</td>\n",
       "    </tr>\n",
       "  </tbody>\n",
       "</table>\n",
       "</div>"
      ],
      "text/plain": [
       "        pc1       pc2\n",
       "0 -2.192877  0.576732\n",
       "1  2.555829 -0.063327\n",
       "2 -0.991300  0.404698"
      ]
     },
     "execution_count": 13,
     "metadata": {},
     "output_type": "execute_result"
    }
   ],
   "source": [
    "x_real = pd.DataFrame(pca.transform(df_real), columns=['pc1','pc2'])\n",
    "x_real"
   ]
  },
  {
   "cell_type": "code",
   "execution_count": 14,
   "metadata": {},
   "outputs": [],
   "source": [
    "df_real['predict'] = model.predict(x_real)"
   ]
  },
  {
   "cell_type": "code",
   "execution_count": 15,
   "metadata": {},
   "outputs": [
    {
     "data": {
      "text/html": [
       "<div>\n",
       "<style scoped>\n",
       "    .dataframe tbody tr th:only-of-type {\n",
       "        vertical-align: middle;\n",
       "    }\n",
       "\n",
       "    .dataframe tbody tr th {\n",
       "        vertical-align: top;\n",
       "    }\n",
       "\n",
       "    .dataframe thead th {\n",
       "        text-align: right;\n",
       "    }\n",
       "</style>\n",
       "<table border=\"1\" class=\"dataframe\">\n",
       "  <thead>\n",
       "    <tr style=\"text-align: right;\">\n",
       "      <th></th>\n",
       "      <th>assortatividade</th>\n",
       "      <th>coef_clusterizacao</th>\n",
       "      <th>transitividade</th>\n",
       "      <th>entropy</th>\n",
       "      <th>predict</th>\n",
       "    </tr>\n",
       "  </thead>\n",
       "  <tbody>\n",
       "    <tr>\n",
       "      <th>0</th>\n",
       "      <td>-0.668214</td>\n",
       "      <td>0.027247</td>\n",
       "      <td>0.000359</td>\n",
       "      <td>0.254405</td>\n",
       "      <td>BA</td>\n",
       "    </tr>\n",
       "    <tr>\n",
       "      <th>1</th>\n",
       "      <td>0.047404</td>\n",
       "      <td>0.537626</td>\n",
       "      <td>0.231432</td>\n",
       "      <td>4.985832</td>\n",
       "      <td>BA</td>\n",
       "    </tr>\n",
       "    <tr>\n",
       "      <th>2</th>\n",
       "      <td>-0.477982</td>\n",
       "      <td>0.069224</td>\n",
       "      <td>0.021453</td>\n",
       "      <td>1.452755</td>\n",
       "      <td>BA</td>\n",
       "    </tr>\n",
       "  </tbody>\n",
       "</table>\n",
       "</div>"
      ],
      "text/plain": [
       "   assortatividade  coef_clusterizacao  transitividade   entropy predict\n",
       "0        -0.668214            0.027247        0.000359  0.254405      BA\n",
       "1         0.047404            0.537626        0.231432  4.985832      BA\n",
       "2        -0.477982            0.069224        0.021453  1.452755      BA"
      ]
     },
     "execution_count": 15,
     "metadata": {},
     "output_type": "execute_result"
    }
   ],
   "source": [
    "df_real"
   ]
  },
  {
   "cell_type": "code",
   "execution_count": 16,
   "metadata": {},
   "outputs": [
    {
     "name": "stdout",
     "output_type": "stream",
     "text": [
      "Rede Social -- twitter-pequeno\n"
     ]
    },
    {
     "name": "stdout",
     "output_type": "stream",
     "text": [
      "<k>: 2.809670517757809 \tN: 23370\n",
      "Rede Social -- facebook\n",
      "<k>: 2.064404432132964 \tN: 2888\n",
      "Rede Social -- hamster\n",
      "<k>: 13.710634789777412 \tN: 2426\n"
     ]
    }
   ],
   "source": [
    "# teste:\n",
    "for rede in redes_sociais.keys():\n",
    "\n",
    "    ######################################\n",
    "    # lidando com a rede social\n",
    "    ######################################\n",
    "    print('Rede Social --', rede)\n",
    "\n",
    "    G = nx.read_edgelist(\"redes/\" + redes_sociais[rede], comments='%', nodetype=int)\n",
    "    grau_medio = np.array(G.degree)[:, 1].mean()\n",
    "    N = len(G)\n",
    "    print('<k>:', grau_medio, '\\tN:', N)"
   ]
  },
  {
   "cell_type": "code",
   "execution_count": 17,
   "metadata": {},
   "outputs": [
    {
     "data": {
      "text/plain": [
       "13.6760098928277"
      ]
     },
     "execution_count": 17,
     "metadata": {},
     "output_type": "execute_result"
    }
   ],
   "source": [
    "# teste de simulação:\n",
    "aux = nx.erdos_renyi_graph(N, grau_medio/(N-1), seed=42)\n",
    "\n",
    "# plt.figure(figsize=(12,8))\n",
    "# pos = nx.spring_layout(aux, iterations=30, k=0.5)\n",
    "# nx.draw(aux, node_size=20, with_labels=False)\n",
    "\n",
    "MEDIDAS['grau_medio'](aux)"
   ]
  }
 ],
 "metadata": {
  "kernelspec": {
   "display_name": "Python 3",
   "language": "python",
   "name": "python3"
  },
  "language_info": {
   "codemirror_mode": {
    "name": "ipython",
    "version": 3
   },
   "file_extension": ".py",
   "mimetype": "text/x-python",
   "name": "python",
   "nbconvert_exporter": "python",
   "pygments_lexer": "ipython3",
   "version": "3.8.10"
  },
  "orig_nbformat": 4
 },
 "nbformat": 4,
 "nbformat_minor": 2
}
