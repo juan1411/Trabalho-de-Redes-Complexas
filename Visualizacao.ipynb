{
 "cells": [
  {
   "attachments": {},
   "cell_type": "markdown",
   "metadata": {},
   "source": [
    "# Projeto de Redes Complexas \n",
    "\n",
    "## Integrantes\n",
    "\n",
    "- Akemi \n",
    "- Caio Vinicius de Oliveira, Nº USP: 11932272\n",
    "- Emerson\n",
    "- Juan Lucas Montanaro, Nº USP: 11912787"
   ]
  },
  {
   "attachments": {},
   "cell_type": "markdown",
   "metadata": {},
   "source": [
    "---------------------------------------------------------------------------"
   ]
  },
  {
   "attachments": {},
   "cell_type": "markdown",
   "metadata": {},
   "source": [
    "## Qual tipo de modelo é mais adequado para redes sociais?"
   ]
  },
  {
   "attachments": {},
   "cell_type": "markdown",
   "metadata": {},
   "source": [
    "Primeiro passo, considerando as três redes sociais abaixo:\n",
    "\n",
    "- Adolescente : Cada nó é uma pessoa e as conexões ocorrem se ela se diz amiga de outra pessoa\n",
    "- Facebook : Cada nó é um usuário e as conexões ocorrem se um usuário é amigo do outro\n",
    "- Hamsterster : Cada nó é um usuário e as conexões ocorrem se um usuário é amigo do outro\n",
    "\n",
    "Rodamos simulações em python utilizando os seguintes modelos:\n",
    "- Barabási-Albert\n",
    "- Erdős–Rényi\n",
    "- Watts-Strogatz com probabilidades de reconexão iguais à 1.0, 0.5 e 0.01.\n",
    "\n",
    "E por fim calculamos várias medidas características para essas redes simuladas, sendo elas:\n",
    "\n",
    "- Grau Médio\n",
    "- Assortatividade\n",
    "- Coeficiente de Clusterização\n",
    "- Transitividade\n",
    "- Entropia de Shannon\n",
    "- Média dos Menores Caminhos\n",
    "- Média da Intermediação\n",
    "- Ponto Central de dominância\n",
    "- Diâmetro\n",
    "- Métrica S\n",
    "- Quantidade de Baricentros\n",
    "- Excentricidade Média\n",
    "- $\\rho$(Grau do Nó, Grau Médio dos Vizinhos)\n",
    "- $\\rho$(Grau do Nó, Centralidade de Proximidade)\n",
    "- $\\rho$(Grau do Nó, Cliques do Nó)"
   ]
  },
  {
   "cell_type": "markdown",
   "metadata": {},
   "source": [
    "### Setup de Bibliotecas"
   ]
  },
  {
   "cell_type": "code",
   "execution_count": 1,
   "metadata": {},
   "outputs": [],
   "source": [
    "# importações\n",
    "from numpy import *\n",
    "import numpy as np\n",
    "import matplotlib.pyplot as plt\n",
    "import plotly.express as px\n",
    "import networkx as nx\n",
    "\n",
    "import simulacao\n",
    "from CONSTANTES import *\n",
    "\n",
    "from sklearn.decomposition import PCA\n",
    "from sklearn.ensemble import RandomForestClassifier\n",
    "from sklearn.model_selection import train_test_split\n",
    "from sklearn.model_selection import KFold, cross_val_score, cross_validate\n",
    "from sklearn.metrics import accuracy_score\n",
    "\n",
    "import pandas as pd\n",
    "import seaborn as sns"
   ]
  },
  {
   "cell_type": "code",
   "execution_count": 2,
   "metadata": {},
   "outputs": [],
   "source": [
    "# executando as simulacoes:\n",
    "# for modelo in SIMULE.keys():\n",
    "#     simulacao.main(modelo)"
   ]
  },
  {
   "attachments": {},
   "cell_type": "markdown",
   "metadata": {},
   "source": [
    "### Leitura e Tratamento dos dados"
   ]
  },
  {
   "cell_type": "code",
   "execution_count": 3,
   "metadata": {},
   "outputs": [
    {
     "data": {
      "text/html": [
       "<div>\n",
       "<style scoped>\n",
       "    .dataframe tbody tr th:only-of-type {\n",
       "        vertical-align: middle;\n",
       "    }\n",
       "\n",
       "    .dataframe tbody tr th {\n",
       "        vertical-align: top;\n",
       "    }\n",
       "\n",
       "    .dataframe thead th {\n",
       "        text-align: right;\n",
       "    }\n",
       "</style>\n",
       "<table border=\"1\" class=\"dataframe\">\n",
       "  <thead>\n",
       "    <tr style=\"text-align: right;\">\n",
       "      <th></th>\n",
       "      <th>grau_medio</th>\n",
       "      <th>assortatividade</th>\n",
       "      <th>coef_clusterizacao</th>\n",
       "      <th>transitividade</th>\n",
       "      <th>entropia</th>\n",
       "      <th>media_dos_menores_caminhos</th>\n",
       "      <th>intermediacao_media</th>\n",
       "      <th>ponto_central_de_dominancia</th>\n",
       "      <th>diametro</th>\n",
       "      <th>metrica_s</th>\n",
       "      <th>qtd_baricentros</th>\n",
       "      <th>excentricidade_media</th>\n",
       "      <th>cor_grau_e_grau_medio_vizinhos</th>\n",
       "      <th>cor_grau_e_proximidade</th>\n",
       "      <th>cor_grau_e_cliques</th>\n",
       "      <th>Rede Social</th>\n",
       "      <th>Iteracao</th>\n",
       "      <th>Modelo</th>\n",
       "    </tr>\n",
       "  </thead>\n",
       "  <tbody>\n",
       "    <tr>\n",
       "      <th>0</th>\n",
       "      <td>7.987397</td>\n",
       "      <td>-0.056606</td>\n",
       "      <td>0.018718</td>\n",
       "      <td>0.011938</td>\n",
       "      <td>3.312802</td>\n",
       "      <td>3.479665</td>\n",
       "      <td>0.000977</td>\n",
       "      <td>0.113967</td>\n",
       "      <td>6.0</td>\n",
       "      <td>3427632.0</td>\n",
       "      <td>1.0</td>\n",
       "      <td>4.878693</td>\n",
       "      <td>-0.108774</td>\n",
       "      <td>0.650769</td>\n",
       "      <td>0.996298</td>\n",
       "      <td>adolescente</td>\n",
       "      <td>1</td>\n",
       "      <td>BA</td>\n",
       "    </tr>\n",
       "    <tr>\n",
       "      <th>1</th>\n",
       "      <td>7.987397</td>\n",
       "      <td>-0.050957</td>\n",
       "      <td>0.018008</td>\n",
       "      <td>0.011753</td>\n",
       "      <td>3.309658</td>\n",
       "      <td>3.463649</td>\n",
       "      <td>0.000971</td>\n",
       "      <td>0.119740</td>\n",
       "      <td>6.0</td>\n",
       "      <td>3635505.0</td>\n",
       "      <td>1.0</td>\n",
       "      <td>4.803860</td>\n",
       "      <td>-0.101730</td>\n",
       "      <td>0.637272</td>\n",
       "      <td>0.995386</td>\n",
       "      <td>adolescente</td>\n",
       "      <td>2</td>\n",
       "      <td>BA</td>\n",
       "    </tr>\n",
       "    <tr>\n",
       "      <th>2</th>\n",
       "      <td>7.987397</td>\n",
       "      <td>-0.057677</td>\n",
       "      <td>0.020821</td>\n",
       "      <td>0.012347</td>\n",
       "      <td>3.287382</td>\n",
       "      <td>3.451669</td>\n",
       "      <td>0.000966</td>\n",
       "      <td>0.124035</td>\n",
       "      <td>6.0</td>\n",
       "      <td>3798102.0</td>\n",
       "      <td>1.0</td>\n",
       "      <td>4.815675</td>\n",
       "      <td>-0.102961</td>\n",
       "      <td>0.624279</td>\n",
       "      <td>0.994553</td>\n",
       "      <td>adolescente</td>\n",
       "      <td>3</td>\n",
       "      <td>BA</td>\n",
       "    </tr>\n",
       "    <tr>\n",
       "      <th>3</th>\n",
       "      <td>7.987397</td>\n",
       "      <td>-0.044562</td>\n",
       "      <td>0.019453</td>\n",
       "      <td>0.011743</td>\n",
       "      <td>3.319342</td>\n",
       "      <td>3.483961</td>\n",
       "      <td>0.000979</td>\n",
       "      <td>0.177898</td>\n",
       "      <td>6.0</td>\n",
       "      <td>3535641.0</td>\n",
       "      <td>1.0</td>\n",
       "      <td>4.845609</td>\n",
       "      <td>-0.092246</td>\n",
       "      <td>0.617089</td>\n",
       "      <td>0.992078</td>\n",
       "      <td>adolescente</td>\n",
       "      <td>4</td>\n",
       "      <td>BA</td>\n",
       "    </tr>\n",
       "    <tr>\n",
       "      <th>4</th>\n",
       "      <td>7.987397</td>\n",
       "      <td>-0.038519</td>\n",
       "      <td>0.016082</td>\n",
       "      <td>0.011806</td>\n",
       "      <td>3.335093</td>\n",
       "      <td>3.506900</td>\n",
       "      <td>0.000988</td>\n",
       "      <td>0.120544</td>\n",
       "      <td>6.0</td>\n",
       "      <td>3296363.0</td>\n",
       "      <td>1.0</td>\n",
       "      <td>4.879086</td>\n",
       "      <td>-0.091658</td>\n",
       "      <td>0.662412</td>\n",
       "      <td>0.992642</td>\n",
       "      <td>adolescente</td>\n",
       "      <td>5</td>\n",
       "      <td>BA</td>\n",
       "    </tr>\n",
       "  </tbody>\n",
       "</table>\n",
       "</div>"
      ],
      "text/plain": [
       "   grau_medio  assortatividade  coef_clusterizacao  transitividade  entropia   \n",
       "0    7.987397        -0.056606            0.018718        0.011938  3.312802  \\\n",
       "1    7.987397        -0.050957            0.018008        0.011753  3.309658   \n",
       "2    7.987397        -0.057677            0.020821        0.012347  3.287382   \n",
       "3    7.987397        -0.044562            0.019453        0.011743  3.319342   \n",
       "4    7.987397        -0.038519            0.016082        0.011806  3.335093   \n",
       "\n",
       "   media_dos_menores_caminhos  intermediacao_media   \n",
       "0                    3.479665             0.000977  \\\n",
       "1                    3.463649             0.000971   \n",
       "2                    3.451669             0.000966   \n",
       "3                    3.483961             0.000979   \n",
       "4                    3.506900             0.000988   \n",
       "\n",
       "   ponto_central_de_dominancia  diametro  metrica_s  qtd_baricentros   \n",
       "0                     0.113967       6.0  3427632.0              1.0  \\\n",
       "1                     0.119740       6.0  3635505.0              1.0   \n",
       "2                     0.124035       6.0  3798102.0              1.0   \n",
       "3                     0.177898       6.0  3535641.0              1.0   \n",
       "4                     0.120544       6.0  3296363.0              1.0   \n",
       "\n",
       "   excentricidade_media  cor_grau_e_grau_medio_vizinhos   \n",
       "0              4.878693                       -0.108774  \\\n",
       "1              4.803860                       -0.101730   \n",
       "2              4.815675                       -0.102961   \n",
       "3              4.845609                       -0.092246   \n",
       "4              4.879086                       -0.091658   \n",
       "\n",
       "   cor_grau_e_proximidade  cor_grau_e_cliques  Rede Social  Iteracao Modelo  \n",
       "0                0.650769            0.996298  adolescente         1     BA  \n",
       "1                0.637272            0.995386  adolescente         2     BA  \n",
       "2                0.624279            0.994553  adolescente         3     BA  \n",
       "3                0.617089            0.992078  adolescente         4     BA  \n",
       "4                0.662412            0.992642  adolescente         5     BA  "
      ]
     },
     "execution_count": 3,
     "metadata": {},
     "output_type": "execute_result"
    }
   ],
   "source": [
    "# carregando os resultados das simulacoes:\n",
    "df_ba = pd.read_csv('Modelo_BA.csv')\n",
    "df_ba['Modelo'] = 'BA'\n",
    "df_er = pd.read_csv('Modelo_ER.csv')\n",
    "df_er['Modelo'] = 'ER'\n",
    "df_ws_p10 = pd.read_csv('Modelo_WS_p10.csv')\n",
    "df_ws_p10['Modelo'] = 'WS p=1'\n",
    "df_ws_p05 = pd.read_csv('Modelo_WS_p05.csv')\n",
    "df_ws_p05['Modelo'] = 'WS p=0.5'\n",
    "df_ws_p01 = pd.read_csv('Modelo_WS_p01.csv')\n",
    "df_ws_p01['Modelo'] = 'WS p=0.01'\n",
    "\n",
    "# # completando possiveis NaNs:\n",
    "# df_ba.interpolate(method='linear', axis=1, inplace=True)\n",
    "# df_er.interpolate(method='linear', axis=1, inplace=True)\n",
    "# df_ws_p10.interpolate(method='linear', axis=1, inplace=True)\n",
    "# df_ws_p05.interpolate(method='linear', axis=1, inplace=True)\n",
    "# df_ws_p01.interpolate(method='linear', axis=1, inplace=True)\n",
    "\n",
    "# mostrando um exemplo:\n",
    "df_ba.head()"
   ]
  },
  {
   "cell_type": "code",
   "execution_count": 4,
   "metadata": {},
   "outputs": [
    {
     "name": "stdout",
     "output_type": "stream",
     "text": [
      "Shape das simulacoes: (450, 18)\n"
     ]
    },
    {
     "data": {
      "text/html": [
       "<div>\n",
       "<style scoped>\n",
       "    .dataframe tbody tr th:only-of-type {\n",
       "        vertical-align: middle;\n",
       "    }\n",
       "\n",
       "    .dataframe tbody tr th {\n",
       "        vertical-align: top;\n",
       "    }\n",
       "\n",
       "    .dataframe thead th {\n",
       "        text-align: right;\n",
       "    }\n",
       "</style>\n",
       "<table border=\"1\" class=\"dataframe\">\n",
       "  <thead>\n",
       "    <tr style=\"text-align: right;\">\n",
       "      <th></th>\n",
       "      <th>grau_medio</th>\n",
       "      <th>assortatividade</th>\n",
       "      <th>coef_clusterizacao</th>\n",
       "      <th>transitividade</th>\n",
       "      <th>entropia</th>\n",
       "      <th>media_dos_menores_caminhos</th>\n",
       "      <th>intermediacao_media</th>\n",
       "      <th>ponto_central_de_dominancia</th>\n",
       "      <th>diametro</th>\n",
       "      <th>metrica_s</th>\n",
       "      <th>qtd_baricentros</th>\n",
       "      <th>excentricidade_media</th>\n",
       "      <th>cor_grau_e_grau_medio_vizinhos</th>\n",
       "      <th>cor_grau_e_proximidade</th>\n",
       "      <th>cor_grau_e_cliques</th>\n",
       "      <th>Rede Social</th>\n",
       "      <th>Iteracao</th>\n",
       "      <th>Modelo</th>\n",
       "    </tr>\n",
       "  </thead>\n",
       "  <tbody>\n",
       "    <tr>\n",
       "      <th>0</th>\n",
       "      <td>7.987397</td>\n",
       "      <td>-0.056606</td>\n",
       "      <td>0.018718</td>\n",
       "      <td>0.011938</td>\n",
       "      <td>3.312802</td>\n",
       "      <td>3.479665</td>\n",
       "      <td>0.000977</td>\n",
       "      <td>0.113967</td>\n",
       "      <td>6.0</td>\n",
       "      <td>3427632.0</td>\n",
       "      <td>1.0</td>\n",
       "      <td>4.878693</td>\n",
       "      <td>-0.108774</td>\n",
       "      <td>0.650769</td>\n",
       "      <td>0.996298</td>\n",
       "      <td>adolescente</td>\n",
       "      <td>1</td>\n",
       "      <td>BA</td>\n",
       "    </tr>\n",
       "    <tr>\n",
       "      <th>1</th>\n",
       "      <td>7.987397</td>\n",
       "      <td>-0.050957</td>\n",
       "      <td>0.018008</td>\n",
       "      <td>0.011753</td>\n",
       "      <td>3.309658</td>\n",
       "      <td>3.463649</td>\n",
       "      <td>0.000971</td>\n",
       "      <td>0.119740</td>\n",
       "      <td>6.0</td>\n",
       "      <td>3635505.0</td>\n",
       "      <td>1.0</td>\n",
       "      <td>4.803860</td>\n",
       "      <td>-0.101730</td>\n",
       "      <td>0.637272</td>\n",
       "      <td>0.995386</td>\n",
       "      <td>adolescente</td>\n",
       "      <td>2</td>\n",
       "      <td>BA</td>\n",
       "    </tr>\n",
       "    <tr>\n",
       "      <th>2</th>\n",
       "      <td>7.987397</td>\n",
       "      <td>-0.057677</td>\n",
       "      <td>0.020821</td>\n",
       "      <td>0.012347</td>\n",
       "      <td>3.287382</td>\n",
       "      <td>3.451669</td>\n",
       "      <td>0.000966</td>\n",
       "      <td>0.124035</td>\n",
       "      <td>6.0</td>\n",
       "      <td>3798102.0</td>\n",
       "      <td>1.0</td>\n",
       "      <td>4.815675</td>\n",
       "      <td>-0.102961</td>\n",
       "      <td>0.624279</td>\n",
       "      <td>0.994553</td>\n",
       "      <td>adolescente</td>\n",
       "      <td>3</td>\n",
       "      <td>BA</td>\n",
       "    </tr>\n",
       "    <tr>\n",
       "      <th>3</th>\n",
       "      <td>7.987397</td>\n",
       "      <td>-0.044562</td>\n",
       "      <td>0.019453</td>\n",
       "      <td>0.011743</td>\n",
       "      <td>3.319342</td>\n",
       "      <td>3.483961</td>\n",
       "      <td>0.000979</td>\n",
       "      <td>0.177898</td>\n",
       "      <td>6.0</td>\n",
       "      <td>3535641.0</td>\n",
       "      <td>1.0</td>\n",
       "      <td>4.845609</td>\n",
       "      <td>-0.092246</td>\n",
       "      <td>0.617089</td>\n",
       "      <td>0.992078</td>\n",
       "      <td>adolescente</td>\n",
       "      <td>4</td>\n",
       "      <td>BA</td>\n",
       "    </tr>\n",
       "    <tr>\n",
       "      <th>4</th>\n",
       "      <td>7.987397</td>\n",
       "      <td>-0.038519</td>\n",
       "      <td>0.016082</td>\n",
       "      <td>0.011806</td>\n",
       "      <td>3.335093</td>\n",
       "      <td>3.506900</td>\n",
       "      <td>0.000988</td>\n",
       "      <td>0.120544</td>\n",
       "      <td>6.0</td>\n",
       "      <td>3296363.0</td>\n",
       "      <td>1.0</td>\n",
       "      <td>4.879086</td>\n",
       "      <td>-0.091658</td>\n",
       "      <td>0.662412</td>\n",
       "      <td>0.992642</td>\n",
       "      <td>adolescente</td>\n",
       "      <td>5</td>\n",
       "      <td>BA</td>\n",
       "    </tr>\n",
       "  </tbody>\n",
       "</table>\n",
       "</div>"
      ],
      "text/plain": [
       "   grau_medio  assortatividade  coef_clusterizacao  transitividade  entropia   \n",
       "0    7.987397        -0.056606            0.018718        0.011938  3.312802  \\\n",
       "1    7.987397        -0.050957            0.018008        0.011753  3.309658   \n",
       "2    7.987397        -0.057677            0.020821        0.012347  3.287382   \n",
       "3    7.987397        -0.044562            0.019453        0.011743  3.319342   \n",
       "4    7.987397        -0.038519            0.016082        0.011806  3.335093   \n",
       "\n",
       "   media_dos_menores_caminhos  intermediacao_media   \n",
       "0                    3.479665             0.000977  \\\n",
       "1                    3.463649             0.000971   \n",
       "2                    3.451669             0.000966   \n",
       "3                    3.483961             0.000979   \n",
       "4                    3.506900             0.000988   \n",
       "\n",
       "   ponto_central_de_dominancia  diametro  metrica_s  qtd_baricentros   \n",
       "0                     0.113967       6.0  3427632.0              1.0  \\\n",
       "1                     0.119740       6.0  3635505.0              1.0   \n",
       "2                     0.124035       6.0  3798102.0              1.0   \n",
       "3                     0.177898       6.0  3535641.0              1.0   \n",
       "4                     0.120544       6.0  3296363.0              1.0   \n",
       "\n",
       "   excentricidade_media  cor_grau_e_grau_medio_vizinhos   \n",
       "0              4.878693                       -0.108774  \\\n",
       "1              4.803860                       -0.101730   \n",
       "2              4.815675                       -0.102961   \n",
       "3              4.845609                       -0.092246   \n",
       "4              4.879086                       -0.091658   \n",
       "\n",
       "   cor_grau_e_proximidade  cor_grau_e_cliques  Rede Social  Iteracao Modelo  \n",
       "0                0.650769            0.996298  adolescente         1     BA  \n",
       "1                0.637272            0.995386  adolescente         2     BA  \n",
       "2                0.624279            0.994553  adolescente         3     BA  \n",
       "3                0.617089            0.992078  adolescente         4     BA  \n",
       "4                0.662412            0.992642  adolescente         5     BA  "
      ]
     },
     "execution_count": 4,
     "metadata": {},
     "output_type": "execute_result"
    }
   ],
   "source": [
    "# definindo um unico dataframe com os resultados:\n",
    "df = pd.concat([df_ba, df_er, df_ws_p10, df_ws_p05, df_ws_p01], axis=0, ignore_index=True)\n",
    "del df_ba, df_er, df_ws_p10, df_ws_p05, df_ws_p01\n",
    "\n",
    "print('Shape das simulacoes:', df.shape)\n",
    "df.head()"
   ]
  },
  {
   "attachments": {},
   "cell_type": "markdown",
   "metadata": {},
   "source": [
    "### Rodando um PCA para as Variáveis de Interesse"
   ]
  },
  {
   "cell_type": "code",
   "execution_count": 5,
   "metadata": {},
   "outputs": [
    {
     "data": {
      "text/html": [
       "<style>#sk-container-id-1 {color: black;background-color: white;}#sk-container-id-1 pre{padding: 0;}#sk-container-id-1 div.sk-toggleable {background-color: white;}#sk-container-id-1 label.sk-toggleable__label {cursor: pointer;display: block;width: 100%;margin-bottom: 0;padding: 0.3em;box-sizing: border-box;text-align: center;}#sk-container-id-1 label.sk-toggleable__label-arrow:before {content: \"▸\";float: left;margin-right: 0.25em;color: #696969;}#sk-container-id-1 label.sk-toggleable__label-arrow:hover:before {color: black;}#sk-container-id-1 div.sk-estimator:hover label.sk-toggleable__label-arrow:before {color: black;}#sk-container-id-1 div.sk-toggleable__content {max-height: 0;max-width: 0;overflow: hidden;text-align: left;background-color: #f0f8ff;}#sk-container-id-1 div.sk-toggleable__content pre {margin: 0.2em;color: black;border-radius: 0.25em;background-color: #f0f8ff;}#sk-container-id-1 input.sk-toggleable__control:checked~div.sk-toggleable__content {max-height: 200px;max-width: 100%;overflow: auto;}#sk-container-id-1 input.sk-toggleable__control:checked~label.sk-toggleable__label-arrow:before {content: \"▾\";}#sk-container-id-1 div.sk-estimator input.sk-toggleable__control:checked~label.sk-toggleable__label {background-color: #d4ebff;}#sk-container-id-1 div.sk-label input.sk-toggleable__control:checked~label.sk-toggleable__label {background-color: #d4ebff;}#sk-container-id-1 input.sk-hidden--visually {border: 0;clip: rect(1px 1px 1px 1px);clip: rect(1px, 1px, 1px, 1px);height: 1px;margin: -1px;overflow: hidden;padding: 0;position: absolute;width: 1px;}#sk-container-id-1 div.sk-estimator {font-family: monospace;background-color: #f0f8ff;border: 1px dotted black;border-radius: 0.25em;box-sizing: border-box;margin-bottom: 0.5em;}#sk-container-id-1 div.sk-estimator:hover {background-color: #d4ebff;}#sk-container-id-1 div.sk-parallel-item::after {content: \"\";width: 100%;border-bottom: 1px solid gray;flex-grow: 1;}#sk-container-id-1 div.sk-label:hover label.sk-toggleable__label {background-color: #d4ebff;}#sk-container-id-1 div.sk-serial::before {content: \"\";position: absolute;border-left: 1px solid gray;box-sizing: border-box;top: 0;bottom: 0;left: 50%;z-index: 0;}#sk-container-id-1 div.sk-serial {display: flex;flex-direction: column;align-items: center;background-color: white;padding-right: 0.2em;padding-left: 0.2em;position: relative;}#sk-container-id-1 div.sk-item {position: relative;z-index: 1;}#sk-container-id-1 div.sk-parallel {display: flex;align-items: stretch;justify-content: center;background-color: white;position: relative;}#sk-container-id-1 div.sk-item::before, #sk-container-id-1 div.sk-parallel-item::before {content: \"\";position: absolute;border-left: 1px solid gray;box-sizing: border-box;top: 0;bottom: 0;left: 50%;z-index: -1;}#sk-container-id-1 div.sk-parallel-item {display: flex;flex-direction: column;z-index: 1;position: relative;background-color: white;}#sk-container-id-1 div.sk-parallel-item:first-child::after {align-self: flex-end;width: 50%;}#sk-container-id-1 div.sk-parallel-item:last-child::after {align-self: flex-start;width: 50%;}#sk-container-id-1 div.sk-parallel-item:only-child::after {width: 0;}#sk-container-id-1 div.sk-dashed-wrapped {border: 1px dashed gray;margin: 0 0.4em 0.5em 0.4em;box-sizing: border-box;padding-bottom: 0.4em;background-color: white;}#sk-container-id-1 div.sk-label label {font-family: monospace;font-weight: bold;display: inline-block;line-height: 1.2em;}#sk-container-id-1 div.sk-label-container {text-align: center;}#sk-container-id-1 div.sk-container {/* jupyter's `normalize.less` sets `[hidden] { display: none; }` but bootstrap.min.css set `[hidden] { display: none !important; }` so we also need the `!important` here to be able to override the default hidden behavior on the sphinx rendered scikit-learn.org. See: https://github.com/scikit-learn/scikit-learn/issues/21755 */display: inline-block !important;position: relative;}#sk-container-id-1 div.sk-text-repr-fallback {display: none;}</style><div id=\"sk-container-id-1\" class=\"sk-top-container\"><div class=\"sk-text-repr-fallback\"><pre>PCA(n_components=2)</pre><b>In a Jupyter environment, please rerun this cell to show the HTML representation or trust the notebook. <br />On GitHub, the HTML representation is unable to render, please try loading this page with nbviewer.org.</b></div><div class=\"sk-container\" hidden><div class=\"sk-item\"><div class=\"sk-estimator sk-toggleable\"><input class=\"sk-toggleable__control sk-hidden--visually\" id=\"sk-estimator-id-1\" type=\"checkbox\" checked><label for=\"sk-estimator-id-1\" class=\"sk-toggleable__label sk-toggleable__label-arrow\">PCA</label><div class=\"sk-toggleable__content\"><pre>PCA(n_components=2)</pre></div></div></div></div></div>"
      ],
      "text/plain": [
       "PCA(n_components=2)"
      ]
     },
     "execution_count": 5,
     "metadata": {},
     "output_type": "execute_result"
    }
   ],
   "source": [
    "X = df.drop(columns=['Rede Social', 'Iteracao', 'Modelo'])\n",
    "y = df[['Modelo']]\n",
    "\n",
    "# pca\n",
    "pca = PCA(n_components=2)\n",
    "pca.fit(X)"
   ]
  },
  {
   "cell_type": "code",
   "execution_count": 6,
   "metadata": {},
   "outputs": [
    {
     "name": "stdout",
     "output_type": "stream",
     "text": [
      "Auto-valores:\n",
      " [5.86984037e+12 6.56934172e+04] \n",
      "\n",
      "Auto-vetores:\n",
      " [[ 1.11180439e-06  6.54538785e-09 -3.41605858e-09 -3.94254461e-09\n",
      "   2.65146905e-07 -8.46270611e-06 -3.77262637e-09 -3.84550184e-08\n",
      "  -2.31890389e-05  1.00000000e+00 -9.53608621e-10 -1.73714712e-05\n",
      "   6.95569732e-09  5.48377453e-08  1.05077503e-09]\n",
      " [-5.20526251e-03  1.75221868e-05 -1.33491490e-04 -1.32565940e-04\n",
      "  -1.99548277e-03  2.78494278e-01  1.19571760e-04  3.46457228e-04\n",
      "   7.68462801e-01  3.01905375e-05  8.38411531e-05  5.76085303e-01\n",
      "   5.34798214e-05 -5.58219080e-04  1.18759701e-04]] \n",
      "\n",
      "Variância explicada:\n",
      " [9.99999989e-01 1.11916870e-08]\n"
     ]
    }
   ],
   "source": [
    "print(\"Auto-valores:\\n\", pca.explained_variance_, '\\n')\n",
    "print(\"Auto-vetores:\\n\", pca.components_, '\\n')\n",
    "print(\"Variância explicada:\\n\", pca.explained_variance_ratio_)"
   ]
  },
  {
   "cell_type": "code",
   "execution_count": 7,
   "metadata": {},
   "outputs": [
    {
     "data": {
      "application/vnd.plotly.v1+json": {
       "config": {
        "plotlyServerURL": "https://plot.ly"
       },
       "data": [
        {
         "hovertemplate": "Modelo=BA<br>pc1=%{x}<br>pc2=%{y}<extra></extra>",
         "legendgroup": "BA",
         "marker": {
          "color": "#636efa",
          "symbol": "circle"
         },
         "mode": "markers",
         "name": "BA",
         "orientation": "v",
         "showlegend": true,
         "type": "scatter",
         "x": [
          1662460.1578857526,
          1870333.157792352,
          2032930.1577180622,
          1770469.1578370132,
          1531191.1579454087,
          1375827.1580397,
          1228481.1580829448,
          1885394.1577850645,
          1824278.15781246,
          1706621.15786621,
          1807476.1578210134,
          1688274.1578741956,
          1565739.1579298873,
          2065754.1577272485,
          1893291.1577813867,
          1945045.1577817458,
          1421034.1579955134,
          2067055.157703066,
          2081576.1576962653,
          1644407.1578938982,
          1780484.1578322211,
          1725173.1578815088,
          1708403.1578650132,
          1560399.1579318857,
          1475166.1579709938,
          1915871.1577715757,
          1672215.157882011,
          1584499.1579209554,
          1546693.1579384978,
          1720275.1578597873,
          -1652077.841214487,
          -1589251.8411897896,
          -1622910.8411131382,
          -1578693.8411567055,
          -1627170.841120328,
          -1620516.8411130775,
          -1589888.841122965,
          -1651573.8411354516,
          -1648661.8411032553,
          -1631941.8411818915,
          -1639284.8411049864,
          -1638783.8411857693,
          -1618787.8411138034,
          -1642931.8410773275,
          -1655101.841181599,
          -1624658.8411407156,
          -1639609.841118052,
          -1635345.8411076951,
          -1602492.8411554561,
          -1667616.8411787753,
          -1633252.8411112453,
          -1616173.841161381,
          -1632313.8412207882,
          -1637336.8411116272,
          -1655760.8412028414,
          -1672583.8411797096,
          -1635769.8412207437,
          -1628991.8411865898,
          -1654148.8411696684,
          -1673444.841165943,
          7396574.1553147305,
          7610092.155217772,
          7401145.155312592,
          8153538.1549696755,
          7559956.155240324,
          7763150.155147427,
          7940357.155066744,
          7388659.155317482,
          8182939.1549562225,
          7023226.155484396,
          8200074.15494815,
          8734504.154705167,
          7317573.155350335,
          7753269.155152035,
          7549514.155245212,
          8470610.154824836,
          7991488.15504363,
          7837543.15511324,
          7424580.155301651,
          7790783.155134951,
          8404693.154855434,
          7357885.15533233,
          7652035.155198241,
          7863301.155101855,
          7452925.155288694,
          7724273.155165383,
          7856988.1551044155,
          9288359.154452248,
          7494506.155270385,
          8708589.154716434
         ],
         "xaxis": "x",
         "y": [
          -52.109514667647076,
          -45.881271217517224,
          -40.968857353060386,
          -48.86649921091602,
          -56.0648323735696,
          -61.5313058658703,
          -65.18506109067292,
          -45.41277872322678,
          -47.24180961660907,
          -50.79623409796043,
          -47.77843441992153,
          -51.33735423857875,
          -55.02982138123607,
          -40.77846096914544,
          -45.17191406622088,
          -44.40380471793353,
          -59.38554675987721,
          -39.95738382163471,
          -39.51322799395611,
          -52.65161157389996,
          -48.556699212772955,
          -51.0237466949654,
          -50.72970836107046,
          -55.17653913532801,
          -57.757018824056324,
          -44.50646631883023,
          -51.83855892359693,
          -54.45111510224108,
          -55.602214744082865,
          -50.37770006577692,
          -132.09020401692143,
          -131.96033141993746,
          -135.00837064550254,
          -132.89762338036383,
          -134.83487117161653,
          -134.9744966635779,
          -134.18462014730173,
          -134.70154033280863,
          -135.72366289353766,
          -132.86642527967373,
          -135.52540991235753,
          -132.84134912536757,
          -134.92406748368305,
          -136.4976859063899,
          -133.22544838048393,
          -134.12108251281,
          -135.0973357454833,
          -135.37646132212814,
          -133.2982721240815,
          -133.5083820738517,
          -135.22723651636707,
          -133.30808642908588,
          -131.58302051227795,
          -135.2764774732801,
          -132.53062868599744,
          -133.55207432950974,
          -131.63680977671706,
          -132.66656493808443,
          -133.6060266091587,
          -134.02061397314125,
          119.6466839854911,
          126.07788370478926,
          119.78650713755664,
          142.4904809528416,
          124.57502639340915,
          130.71605042153766,
          136.06072660634987,
          119.4362692871518,
          143.37936424367052,
          108.39713391272987,
          143.90514261926143,
          160.01219165942948,
          117.2761959020246,
          130.41436494433282,
          124.25548773323138,
          152.06920958936038,
          137.597247342183,
          132.97025741284193,
          120.50231642874871,
          131.54589845904047,
          150.06167466830365,
          118.48038184222266,
          127.35741040967486,
          133.73575564929823,
          121.35890403756093,
          129.53506478112988,
          133.5557626482883,
          176.74148249856947,
          122.59236416458427,
          159.248389881879
         ],
         "yaxis": "y"
        },
        {
         "hovertemplate": "Modelo=ER<br>pc1=%{x}<br>pc2=%{y}<extra></extra>",
         "legendgroup": "ER",
         "marker": {
          "color": "#EF553B",
          "symbol": "circle"
         },
         "mode": "markers",
         "name": "ER",
         "orientation": "v",
         "showlegend": true,
         "type": "scatter",
         "x": [
          -900753.8409897066,
          -880919.8410222724,
          -843659.8410108825,
          -889521.8409934408,
          -897433.8409884638,
          -855455.8410086465,
          -879274.841001538,
          -915018.8409810466,
          -840678.8409878138,
          -882005.8409975163,
          -878690.8409995015,
          -857466.8410081847,
          -873434.8409996344,
          -854575.8410095585,
          -871574.8410010646,
          -882605.8409964641,
          -874409.8409982676,
          -865453.841002612,
          -864364.8410056385,
          -883767.8409945869,
          -890865.840994328,
          -891709.8409913294,
          -892306.840992436,
          -904099.8409870862,
          -863429.8410049311,
          -883189.8409963968,
          -880417.8409958498,
          -853110.8410094316,
          -879539.8409975778,
          -901018.8409874705,
          -1737364.8413024521,
          -1734531.8412368053,
          -1738991.8413482197,
          -1738260.8413000042,
          -1736257.84126284,
          -1738162.841360608,
          -1735499.8413375795,
          -1737539.841328206,
          -1737918.8413061346,
          -1738494.8413358775,
          -1736701.841252843,
          -1736791.8413306791,
          -1737584.8413239836,
          -1736883.8412762852,
          -1739024.8413215897,
          -1739043.8413455782,
          -1737120.8412706733,
          -1737853.8413123314,
          -1735662.8412919452,
          -1735504.841202035,
          -1739448.841479069,
          -1739656.841321927,
          -1737136.8413319204,
          -1734825.8412039648,
          -1737008.841310991,
          -1737242.8412690228,
          -1738199.8412744922,
          -1737158.8412582043,
          -1737510.8413317385,
          -1738193.8413376317,
          1925309.1578081828,
          1910541.1578152487,
          1839218.1578470534,
          1747631.1578863452,
          1906705.1578167453,
          1746295.1578886264,
          1756894.1578839826,
          1903696.1578175616,
          1823693.157852994,
          1954143.1577941282,
          1890951.1578229934,
          1931124.1578060843,
          1717398.1578986698,
          1813513.157857604,
          1804872.1578625804,
          1897207.1578207593,
          1992615.1577783911,
          1951648.1577956092,
          1895096.157822015,
          1775787.157875172,
          1765550.1578786715,
          1881716.1578277838,
          1791277.1578660014,
          1764783.1578798029,
          1763003.157879472,
          1771983.1578769619,
          1922286.1578094799,
          1762637.1578807943,
          1803611.1578612437,
          1826503.157851439
         ],
         "xaxis": "x",
         "y": [
          -128.0023169064721,
          -126.62145997725567,
          -126.43389801678,
          -127.70741078416073,
          -127.99264273086433,
          -126.68670127281847,
          -127.28340028179863,
          -128.50554853893047,
          -127.15205704763419,
          -127.45875617935633,
          -127.34287768040717,
          -126.73299447677718,
          -127.25870233590872,
          -126.64343919105636,
          -127.18288957429458,
          -127.50253887825241,
          -127.31788579571437,
          -127.03952302317448,
          -126.92224610003763,
          -127.5825411354163,
          -127.69927569254321,
          -127.81099823283297,
          -127.78306547979498,
          -128.14037372006368,
          -126.93100099020701,
          -127.51332310329292,
          -127.48935858659092,
          -126.62607560978826,
          -127.41928396234633,
          -128.0791566830951,
          -130.44311644831907,
          -132.57455181996153,
          -128.952595187822,
          -130.5393673058312,
          -131.73929448364026,
          -128.52915589462953,
          -129.24919558811183,
          -129.59295725277624,
          -130.33111198031463,
          -129.3540998003888,
          -132.07733935283204,
          -129.49815013355717,
          -129.7339427756655,
          -131.30291908355127,
          -129.83598610522728,
          -129.04230303501248,
          -131.49298313679938,
          -130.12400368204388,
          -130.7643774246997,
          -133.74169870127193,
          -124.62452469477805,
          -129.8360515963569,
          -129.46284535790363,
          -133.66728012298853,
          -130.1550971216656,
          -131.55046691127305,
          -131.38441528682662,
          -131.90686141067906,
          -129.47510581271905,
          -129.2915900486817,
          -45.387848870840706,
          -45.8446757848459,
          -47.976224852442414,
          -50.66329932487431,
          -45.951921530055394,
          -50.75865490633629,
          -50.44457433454091,
          -46.02463445559152,
          -48.408166358246525,
          -44.48530770858117,
          -46.397643261346126,
          -45.230312320844085,
          -51.5292128261726,
          -48.71509681544922,
          -49.01003770755579,
          -46.228783886543155,
          -43.382907747512625,
          -44.57260412480017,
          -46.300991852444994,
          -49.8674665790814,
          -50.138036744850815,
          -46.69611131758457,
          -49.33008876509864,
          -50.186467664862185,
          -50.202818597355794,
          -49.98341595565548,
          -45.47698694322376,
          -50.2520870161678,
          -48.98499151647513,
          -48.31509370262964
         ],
         "yaxis": "y"
        },
        {
         "hovertemplate": "Modelo=WS p=1<br>pc1=%{x}<br>pc2=%{y}<extra></extra>",
         "legendgroup": "WS p=1",
         "marker": {
          "color": "#00cc96",
          "symbol": "circle"
         },
         "mode": "markers",
         "name": "WS p=1",
         "orientation": "v",
         "showlegend": true,
         "type": "scatter",
         "x": [
          -1028705.8409008795,
          -1033602.8408988948,
          -1034734.8408985888,
          -1034686.8408983819,
          -1032477.8408996146,
          -1034546.8408989202,
          -1036902.840897178,
          -1030766.8409003348,
          -1036707.840897591,
          -1036564.8408973694,
          -1035004.8408986077,
          -1033898.8408988767,
          -1030731.840900326,
          -1035802.840898089,
          -1033086.8408994095,
          -1034178.8408983679,
          -1035686.8408983374,
          -1032193.8408994363,
          -1035313.8408980452,
          -1034278.8408985421,
          -1032336.8408993112,
          -1033000.8408989235,
          -1035095.840898465,
          -1030380.840900429,
          -1032734.840899398,
          -1035533.8408981102,
          -1039224.8408963357,
          -1030326.8409005866,
          -1036368.8408979097,
          -1033282.8408987444,
          -1747764.8475544846,
          -1748028.846440819,
          -1755612.8448169634,
          -1751277.8465421041,
          -1749816.848075902,
          -1749967.8466843113,
          -1754929.8454125598,
          -1753138.8458464677,
          -1751134.8452635645,
          -1754455.8453807097,
          -1756995.8453823703,
          -1749509.8466484135,
          -1748304.847332599,
          -1747990.84729458,
          -1757697.8448555565,
          -1758186.844622681,
          -1748005.8462314452,
          -1750925.8469294047,
          -1748069.845553745,
          -1748097.8463590262,
          -1752462.8460389732,
          -1754829.8447847012,
          -1752208.8471344186,
          -1755215.8462388746,
          -1749155.8462885572,
          -1748140.8484788572,
          -1754017.8451565886,
          -1756690.8455743936,
          -1748589.8460388328,
          -1748051.8467022798,
          492473.15844994044,
          502052.1584454358,
          498538.158446756,
          507017.1584429918,
          498282.158447097,
          508835.1584423856,
          500659.1584460007,
          503267.1584446571,
          511184.158441108,
          504338.1584439474,
          506855.15844307595,
          511122.158441231,
          503857.158444363,
          502996.15844484535,
          507838.1584424597,
          505097.1584440016,
          506046.15844326967,
          504828.1584441916,
          502731.15844513645,
          502148.15844512224,
          501243.15844562836,
          499308.15844658855,
          509662.15844155155,
          502052.15844540804,
          508788.15844230313,
          505017.1584439697,
          498120.15844697563,
          504205.15844448365,
          509997.1584414626,
          507527.1584427189
         ],
         "xaxis": "x",
         "y": [
          -132.88259804652648,
          -133.02247938226304,
          -133.04970454838227,
          -133.05575792725685,
          -132.98154843017733,
          -133.03586141590532,
          -133.12921315771194,
          -132.93179244803892,
          -133.11260268311233,
          -133.1177662001561,
          -133.05308279433567,
          -133.02747208111737,
          -132.93156330698886,
          -133.0823981479035,
          -132.997512259326,
          -133.04853301033867,
          -133.0724111638332,
          -132.983208908806,
          -133.07640443756983,
          -133.0443092192603,
          -132.98944004285246,
          -133.0123631601878,
          -133.05921296068632,
          -132.92288112737526,
          -132.99260786951072,
          -133.07761801173922,
          -133.19224750548517,
          -132.9167739077253,
          -133.09691661356095,
          -133.02256672763656,
          76.49595954733495,
          39.612497519331676,
          -14.303193892655354,
          42.90914685504185,
          93.74588698241865,
          47.63726556793937,
          5.430490307054294,
          19.838297970909597,
          0.5521149092076244,
          4.387593145780837,
          4.405291906075647,
          46.45769916885277,
          69.14217542921924,
          67.88491937083766,
          -13.057966525591238,
          -20.777893025845504,
          32.65257455572668,
          55.749081193766344,
          10.211740273008346,
          36.895869588865175,
          26.226908526598923,
          -15.367083078752763,
          62.518219632257676,
          32.80891415692302,
          34.539657727666,
          107.12520392536574,
          -3.0351999280826476,
          10.771655093183773,
          26.285615538339496,
          48.25191698353756,
          -88.31309760494459,
          -88.01917096097682,
          -88.11603250686295,
          -87.86335527406541,
          -88.13121361316237,
          -87.81573330573748,
          -88.05896967722823,
          -87.97510899856235,
          -87.7378793779278,
          -87.93530373036457,
          -87.86845175069244,
          -87.74293847783622,
          -87.95653466287679,
          -87.9853219679125,
          -87.83324466727966,
          -87.9256873248828,
          -87.88708791303434,
          -87.93608596881168,
          -87.99907654558075,
          -88.00736400305335,
          -88.03792576620135,
          -88.09885625992749,
          -87.77559848010672,
          -88.01831247645434,
          -87.81375114065634,
          -87.92584532628132,
          -88.12960744602432,
          -87.95516275469855,
          -87.76759443854203,
          -87.8465437885598
         ],
         "yaxis": "y"
        },
        {
         "hovertemplate": "Modelo=WS p=0.5<br>pc1=%{x}<br>pc2=%{y}<extra></extra>",
         "legendgroup": "WS p=0.5",
         "marker": {
          "color": "#ab63fa",
          "symbol": "circle"
         },
         "mode": "markers",
         "name": "WS p=0.5",
         "orientation": "v",
         "showlegend": true,
         "type": "scatter",
         "x": [
          -1056113.8408989725,
          -1055660.8408989704,
          -1053890.8408998093,
          -1056085.8408987792,
          -1053355.8408997182,
          -1053535.8409003024,
          -1054130.8408996707,
          -1049249.8409016572,
          -1054046.840899545,
          -1051061.8409008603,
          -1051800.8409004225,
          -1052674.840900391,
          -1054027.840899792,
          -1055443.840898674,
          -1053815.8408995243,
          -1056302.8408988144,
          -1052471.8409006505,
          -1056506.8408985673,
          -1052806.840900055,
          -1055871.8408989199,
          -1053144.8409001601,
          -1053084.8409003806,
          -1053271.8408999448,
          -1053593.8408996367,
          -1052546.8409002877,
          -1053221.8409003168,
          -1052792.8408999443,
          -1049813.8409012242,
          -1055507.8408990402,
          -1052347.840900448,
          -1759945.8454576847,
          -1750089.8482358877,
          -1749383.8495611218,
          -1752731.8494531843,
          -1756903.8454589997,
          -1753348.84573503,
          -1751899.8472144366,
          -1752351.8480961462,
          -1752316.8487118077,
          -1752342.8464573913,
          -1750406.8466040378,
          -1750366.8470425205,
          -1750924.8461034028,
          -1756235.8461128976,
          -1749373.8475785074,
          -1753897.8448800016,
          -1750475.847435281,
          -1752939.8476088226,
          -1750152.847806668,
          -1750468.8478356134,
          -1749246.8471369152,
          -1750092.8473454034,
          -1759127.8450290116,
          -1751847.84724756,
          -1754303.84579737,
          -1749177.8480421847,
          -1749358.8475160159,
          -1756302.8445256327,
          -1749933.8484085843,
          -1758540.844917441,
          466548.15845637314,
          466910.1584562206,
          456854.1584607164,
          459293.15845963475,
          464783.15845721343,
          453427.15846236015,
          460913.1584589339,
          462877.158458013,
          460321.158459209,
          463191.15845787525,
          458563.15846000577,
          459930.15845934924,
          462151.15845837665,
          460657.15845904994,
          454447.1584618713,
          462064.1584583902,
          466762.1584562987,
          466278.15845648316,
          461582.1584586351,
          464635.15845719154,
          459710.1584594729,
          462450.15845826274,
          463630.1584576868,
          466178.1584565551,
          465155.15845704294,
          459733.15845943865,
          468925.1584553271,
          463776.15845758934,
          457822.1584602479,
          455108.1584615261
         ],
         "xaxis": "x",
         "y": [
          -133.36082389847692,
          -133.35407168305278,
          -133.2993951764785,
          -133.36680462759043,
          -133.29433530143578,
          -133.2776939686927,
          -133.30764371788868,
          -133.16788220168428,
          -133.3105592133394,
          -133.22175077916526,
          -133.2474951317751,
          -133.2617579319271,
          -133.30208669466305,
          -133.36052901763745,
          -133.30771182640026,
          -133.36895254596695,
          -133.2500993590515,
          -133.38021428102107,
          -133.27489439386477,
          -133.35890589895695,
          -133.27642289051815,
          -133.26831999254657,
          -133.28563221957182,
          -133.30058405040668,
          -133.2632354509949,
          -133.27246500653007,
          -133.27834302942944,
          -133.1907274670475,
          -133.34941718066804,
          -133.2548438755495,
          6.861823611188719,
          99.04381194791227,
          142.9665067242028,
          139.33789993268587,
          6.93737473939267,
          16.131000162990286,
          65.17510699328497,
          94.36864674663238,
          114.76268441100554,
          40.08722569990927,
          44.979785460225415,
          59.49360498875498,
          28.368958620174624,
          28.620543962984268,
          77.2701566880064,
          -12.191553875176862,
          72.51596517908837,
          78.23156805305287,
          84.81803424333272,
          85.78056322531103,
          62.645745479129715,
          69.54597555036746,
          -7.340120936452186,
          66.28907857726905,
          18.186088375960363,
          92.63820932687405,
          75.20903517687749,
          -23.97333929905488,
          104.75714259647434,
          -11.025821692067602,
          -88.91817168253097,
          -88.90760032782383,
          -89.20852173596553,
          -89.13583740012885,
          -88.97261642419414,
          -89.31471536016444,
          -89.08814472852296,
          -89.02794161407427,
          -89.10621410678169,
          -89.01857556996197,
          -89.15917366731183,
          -89.11678591804744,
          -89.05096688867138,
          -89.09582642794014,
          -89.28315758914732,
          -89.05276761442062,
          -88.91246123945004,
          -88.92584749405707,
          -89.068060462114,
          -88.97416591766603,
          -89.12412525947667,
          -89.04265969154399,
          -89.00568878639407,
          -88.92976526537359,
          -88.96134559221255,
          -89.12269323864982,
          -88.84756738109093,
          -89.00031298061941,
          -89.17835702216297,
          -89.26177888912781
         ],
         "yaxis": "y"
        },
        {
         "hovertemplate": "Modelo=WS p=0.01<br>pc1=%{x}<br>pc2=%{y}<extra></extra>",
         "legendgroup": "WS p=0.01",
         "marker": {
          "color": "#FFA15A",
          "symbol": "circle"
         },
         "mode": "markers",
         "name": "WS p=0.01",
         "orientation": "v",
         "showlegend": true,
         "type": "scatter",
         "x": [
          -1113419.841777523,
          -1113518.841948712,
          -1113562.8419911074,
          -1113602.8420547985,
          -1113930.8420405716,
          -1113679.8419489649,
          -1113677.8418982355,
          -1113698.8418440926,
          -1113670.8420675434,
          -1113401.8417695633,
          -1113911.8420643567,
          -1113726.8420364626,
          -1113301.8418316655,
          -1113470.8418107333,
          -1113657.8419416526,
          -1113463.8418941146,
          -1113519.841827329,
          -1113525.8418803276,
          -1113702.8420057935,
          -1113875.8420116156,
          -1113806.8422145946,
          -1113600.8419137732,
          -1113662.841760594,
          -1113515.8418320408,
          -1113452.8419793714,
          -1113464.8417859282,
          -1113650.8419238601,
          -1113519.8417939236,
          -1113267.8416917438,
          -1113631.8420938062,
          -1753487.8678117706,
          -1758111.8730645818,
          -1753520.8816568553,
          -1756803.8691028904,
          -1756739.8627378982,
          -1757935.867393727,
          -1753504.8762325926,
          -1757216.8642968144,
          -1753498.8760991967,
          -1754799.871933426,
          -1753792.874388117,
          -1754207.8840282906,
          -1755580.869832183,
          -1756310.871151501,
          -1758799.8660418338,
          -1753489.8717898892,
          -1758780.867969002,
          -1759539.8669740357,
          -1757731.879576494,
          -1754003.8744377436,
          -1757278.865939522,
          -1753531.887903099,
          -1758552.8711450305,
          -1753511.886561258,
          -1755155.8682834124,
          -1753488.8656911813,
          -1757310.8689040444,
          -1753666.8694691646,
          -1759183.8642598852,
          -1754165.876869963,
          333813.15795543697,
          334367.15803242684,
          334081.1579923118,
          334723.15800589777,
          334557.15804009757,
          334307.1579918544,
          334864.1580404767,
          334537.15803592006,
          334303.15797592816,
          334384.1580129719,
          334560.15807487455,
          334543.1580122092,
          334420.1579757773,
          334666.15807294,
          334150.1579892177,
          334486.15797933197,
          334704.15798536583,
          334340.15799427644,
          334402.1579974421,
          334257.157972513,
          334288.1579962771,
          333989.1580013088,
          334340.15800573834,
          334621.1580430187,
          333982.15790438,
          334809.1580403969,
          335092.1580766036,
          334404.1579758918,
          334514.1580444429,
          334224.1579967276
         ],
         "xaxis": "x",
         "y": [
          -105.13813606360362,
          -99.46664506526761,
          -98.06252915879062,
          -95.95298636839826,
          -96.43253684041602,
          -99.46230171672579,
          -101.14336609145919,
          -102.93797201561709,
          -95.53134795956804,
          -105.40134899709534,
          -95.64342512070851,
          -96.56321594489896,
          -103.34089288531851,
          -104.03821077927493,
          -99.70392463872683,
          -101.27490721461095,
          -103.48997776222865,
          -101.73358674127063,
          -97.57974194366336,
          -97.39015710320147,
          -90.66075353081906,
          -100.62712105354198,
          -105.70421234121315,
          -103.3325601939009,
          -98.44917291827552,
          -104.8607889252029,
          -100.29374452495283,
          -104.59657551379333,
          -107.97759840781544,
          -94.65974884823792,
          747.4770791533,
          921.519490962096,
          1206.217891617322,
          790.2571037594132,
          579.3595136911146,
          733.5722094533688,
          1026.443008227278,
          630.9661827758482,
          1022.062988902063,
          884.0308890833165,
          965.3645022840968,
          1284.714075904234,
          814.4749980442534,
          858.0859725367137,
          688.7753907027653,
          879.3510441333921,
          752.6415553292848,
          719.6692151212291,
          1137.1890175154563,
          967.0072858001173,
          685.4153118637194,
          1413.0966162985892,
          857.8415603149452,
          1368.6498798526002,
          763.100482052433,
          677.2310539110551,
          783.6458708310333,
          802.413133001091,
          629.7516260601936,
          1047.5891666370999,
          -74.34453050818566,
          -76.88625605122625,
          -75.56194663601534,
          -76.00140843827569,
          -77.13717820829193,
          -75.54242087590943,
          -77.14481300705879,
          -76.99893586739273,
          -75.01497404596627,
          -76.24104678808234,
          -78.28953893334274,
          -76.21330591661611,
          -75.00793627169317,
          -78.22380400159638,
          -75.4585073199714,
          -75.1246579613975,
          -75.32063541745222,
          -75.62235343913825,
          -75.7264984262632,
          -74.90296160826165,
          -75.689633715214,
          -75.86114300793037,
          -76.00235677740434,
          -77.23300765759538,
          -72.64942471174591,
          -77.14300331963751,
          -78.33807226907665,
          -75.0122922526608,
          -77.281654313666,
          -75.70560768325696
         ],
         "yaxis": "y"
        }
       ],
       "layout": {
        "legend": {
         "title": {
          "text": "Modelo"
         },
         "tracegroupgap": 0
        },
        "margin": {
         "t": 60
        },
        "template": {
         "data": {
          "bar": [
           {
            "error_x": {
             "color": "#2a3f5f"
            },
            "error_y": {
             "color": "#2a3f5f"
            },
            "marker": {
             "line": {
              "color": "#E5ECF6",
              "width": 0.5
             },
             "pattern": {
              "fillmode": "overlay",
              "size": 10,
              "solidity": 0.2
             }
            },
            "type": "bar"
           }
          ],
          "barpolar": [
           {
            "marker": {
             "line": {
              "color": "#E5ECF6",
              "width": 0.5
             },
             "pattern": {
              "fillmode": "overlay",
              "size": 10,
              "solidity": 0.2
             }
            },
            "type": "barpolar"
           }
          ],
          "carpet": [
           {
            "aaxis": {
             "endlinecolor": "#2a3f5f",
             "gridcolor": "white",
             "linecolor": "white",
             "minorgridcolor": "white",
             "startlinecolor": "#2a3f5f"
            },
            "baxis": {
             "endlinecolor": "#2a3f5f",
             "gridcolor": "white",
             "linecolor": "white",
             "minorgridcolor": "white",
             "startlinecolor": "#2a3f5f"
            },
            "type": "carpet"
           }
          ],
          "choropleth": [
           {
            "colorbar": {
             "outlinewidth": 0,
             "ticks": ""
            },
            "type": "choropleth"
           }
          ],
          "contour": [
           {
            "colorbar": {
             "outlinewidth": 0,
             "ticks": ""
            },
            "colorscale": [
             [
              0,
              "#0d0887"
             ],
             [
              0.1111111111111111,
              "#46039f"
             ],
             [
              0.2222222222222222,
              "#7201a8"
             ],
             [
              0.3333333333333333,
              "#9c179e"
             ],
             [
              0.4444444444444444,
              "#bd3786"
             ],
             [
              0.5555555555555556,
              "#d8576b"
             ],
             [
              0.6666666666666666,
              "#ed7953"
             ],
             [
              0.7777777777777778,
              "#fb9f3a"
             ],
             [
              0.8888888888888888,
              "#fdca26"
             ],
             [
              1,
              "#f0f921"
             ]
            ],
            "type": "contour"
           }
          ],
          "contourcarpet": [
           {
            "colorbar": {
             "outlinewidth": 0,
             "ticks": ""
            },
            "type": "contourcarpet"
           }
          ],
          "heatmap": [
           {
            "colorbar": {
             "outlinewidth": 0,
             "ticks": ""
            },
            "colorscale": [
             [
              0,
              "#0d0887"
             ],
             [
              0.1111111111111111,
              "#46039f"
             ],
             [
              0.2222222222222222,
              "#7201a8"
             ],
             [
              0.3333333333333333,
              "#9c179e"
             ],
             [
              0.4444444444444444,
              "#bd3786"
             ],
             [
              0.5555555555555556,
              "#d8576b"
             ],
             [
              0.6666666666666666,
              "#ed7953"
             ],
             [
              0.7777777777777778,
              "#fb9f3a"
             ],
             [
              0.8888888888888888,
              "#fdca26"
             ],
             [
              1,
              "#f0f921"
             ]
            ],
            "type": "heatmap"
           }
          ],
          "heatmapgl": [
           {
            "colorbar": {
             "outlinewidth": 0,
             "ticks": ""
            },
            "colorscale": [
             [
              0,
              "#0d0887"
             ],
             [
              0.1111111111111111,
              "#46039f"
             ],
             [
              0.2222222222222222,
              "#7201a8"
             ],
             [
              0.3333333333333333,
              "#9c179e"
             ],
             [
              0.4444444444444444,
              "#bd3786"
             ],
             [
              0.5555555555555556,
              "#d8576b"
             ],
             [
              0.6666666666666666,
              "#ed7953"
             ],
             [
              0.7777777777777778,
              "#fb9f3a"
             ],
             [
              0.8888888888888888,
              "#fdca26"
             ],
             [
              1,
              "#f0f921"
             ]
            ],
            "type": "heatmapgl"
           }
          ],
          "histogram": [
           {
            "marker": {
             "pattern": {
              "fillmode": "overlay",
              "size": 10,
              "solidity": 0.2
             }
            },
            "type": "histogram"
           }
          ],
          "histogram2d": [
           {
            "colorbar": {
             "outlinewidth": 0,
             "ticks": ""
            },
            "colorscale": [
             [
              0,
              "#0d0887"
             ],
             [
              0.1111111111111111,
              "#46039f"
             ],
             [
              0.2222222222222222,
              "#7201a8"
             ],
             [
              0.3333333333333333,
              "#9c179e"
             ],
             [
              0.4444444444444444,
              "#bd3786"
             ],
             [
              0.5555555555555556,
              "#d8576b"
             ],
             [
              0.6666666666666666,
              "#ed7953"
             ],
             [
              0.7777777777777778,
              "#fb9f3a"
             ],
             [
              0.8888888888888888,
              "#fdca26"
             ],
             [
              1,
              "#f0f921"
             ]
            ],
            "type": "histogram2d"
           }
          ],
          "histogram2dcontour": [
           {
            "colorbar": {
             "outlinewidth": 0,
             "ticks": ""
            },
            "colorscale": [
             [
              0,
              "#0d0887"
             ],
             [
              0.1111111111111111,
              "#46039f"
             ],
             [
              0.2222222222222222,
              "#7201a8"
             ],
             [
              0.3333333333333333,
              "#9c179e"
             ],
             [
              0.4444444444444444,
              "#bd3786"
             ],
             [
              0.5555555555555556,
              "#d8576b"
             ],
             [
              0.6666666666666666,
              "#ed7953"
             ],
             [
              0.7777777777777778,
              "#fb9f3a"
             ],
             [
              0.8888888888888888,
              "#fdca26"
             ],
             [
              1,
              "#f0f921"
             ]
            ],
            "type": "histogram2dcontour"
           }
          ],
          "mesh3d": [
           {
            "colorbar": {
             "outlinewidth": 0,
             "ticks": ""
            },
            "type": "mesh3d"
           }
          ],
          "parcoords": [
           {
            "line": {
             "colorbar": {
              "outlinewidth": 0,
              "ticks": ""
             }
            },
            "type": "parcoords"
           }
          ],
          "pie": [
           {
            "automargin": true,
            "type": "pie"
           }
          ],
          "scatter": [
           {
            "fillpattern": {
             "fillmode": "overlay",
             "size": 10,
             "solidity": 0.2
            },
            "type": "scatter"
           }
          ],
          "scatter3d": [
           {
            "line": {
             "colorbar": {
              "outlinewidth": 0,
              "ticks": ""
             }
            },
            "marker": {
             "colorbar": {
              "outlinewidth": 0,
              "ticks": ""
             }
            },
            "type": "scatter3d"
           }
          ],
          "scattercarpet": [
           {
            "marker": {
             "colorbar": {
              "outlinewidth": 0,
              "ticks": ""
             }
            },
            "type": "scattercarpet"
           }
          ],
          "scattergeo": [
           {
            "marker": {
             "colorbar": {
              "outlinewidth": 0,
              "ticks": ""
             }
            },
            "type": "scattergeo"
           }
          ],
          "scattergl": [
           {
            "marker": {
             "colorbar": {
              "outlinewidth": 0,
              "ticks": ""
             }
            },
            "type": "scattergl"
           }
          ],
          "scattermapbox": [
           {
            "marker": {
             "colorbar": {
              "outlinewidth": 0,
              "ticks": ""
             }
            },
            "type": "scattermapbox"
           }
          ],
          "scatterpolar": [
           {
            "marker": {
             "colorbar": {
              "outlinewidth": 0,
              "ticks": ""
             }
            },
            "type": "scatterpolar"
           }
          ],
          "scatterpolargl": [
           {
            "marker": {
             "colorbar": {
              "outlinewidth": 0,
              "ticks": ""
             }
            },
            "type": "scatterpolargl"
           }
          ],
          "scatterternary": [
           {
            "marker": {
             "colorbar": {
              "outlinewidth": 0,
              "ticks": ""
             }
            },
            "type": "scatterternary"
           }
          ],
          "surface": [
           {
            "colorbar": {
             "outlinewidth": 0,
             "ticks": ""
            },
            "colorscale": [
             [
              0,
              "#0d0887"
             ],
             [
              0.1111111111111111,
              "#46039f"
             ],
             [
              0.2222222222222222,
              "#7201a8"
             ],
             [
              0.3333333333333333,
              "#9c179e"
             ],
             [
              0.4444444444444444,
              "#bd3786"
             ],
             [
              0.5555555555555556,
              "#d8576b"
             ],
             [
              0.6666666666666666,
              "#ed7953"
             ],
             [
              0.7777777777777778,
              "#fb9f3a"
             ],
             [
              0.8888888888888888,
              "#fdca26"
             ],
             [
              1,
              "#f0f921"
             ]
            ],
            "type": "surface"
           }
          ],
          "table": [
           {
            "cells": {
             "fill": {
              "color": "#EBF0F8"
             },
             "line": {
              "color": "white"
             }
            },
            "header": {
             "fill": {
              "color": "#C8D4E3"
             },
             "line": {
              "color": "white"
             }
            },
            "type": "table"
           }
          ]
         },
         "layout": {
          "annotationdefaults": {
           "arrowcolor": "#2a3f5f",
           "arrowhead": 0,
           "arrowwidth": 1
          },
          "autotypenumbers": "strict",
          "coloraxis": {
           "colorbar": {
            "outlinewidth": 0,
            "ticks": ""
           }
          },
          "colorscale": {
           "diverging": [
            [
             0,
             "#8e0152"
            ],
            [
             0.1,
             "#c51b7d"
            ],
            [
             0.2,
             "#de77ae"
            ],
            [
             0.3,
             "#f1b6da"
            ],
            [
             0.4,
             "#fde0ef"
            ],
            [
             0.5,
             "#f7f7f7"
            ],
            [
             0.6,
             "#e6f5d0"
            ],
            [
             0.7,
             "#b8e186"
            ],
            [
             0.8,
             "#7fbc41"
            ],
            [
             0.9,
             "#4d9221"
            ],
            [
             1,
             "#276419"
            ]
           ],
           "sequential": [
            [
             0,
             "#0d0887"
            ],
            [
             0.1111111111111111,
             "#46039f"
            ],
            [
             0.2222222222222222,
             "#7201a8"
            ],
            [
             0.3333333333333333,
             "#9c179e"
            ],
            [
             0.4444444444444444,
             "#bd3786"
            ],
            [
             0.5555555555555556,
             "#d8576b"
            ],
            [
             0.6666666666666666,
             "#ed7953"
            ],
            [
             0.7777777777777778,
             "#fb9f3a"
            ],
            [
             0.8888888888888888,
             "#fdca26"
            ],
            [
             1,
             "#f0f921"
            ]
           ],
           "sequentialminus": [
            [
             0,
             "#0d0887"
            ],
            [
             0.1111111111111111,
             "#46039f"
            ],
            [
             0.2222222222222222,
             "#7201a8"
            ],
            [
             0.3333333333333333,
             "#9c179e"
            ],
            [
             0.4444444444444444,
             "#bd3786"
            ],
            [
             0.5555555555555556,
             "#d8576b"
            ],
            [
             0.6666666666666666,
             "#ed7953"
            ],
            [
             0.7777777777777778,
             "#fb9f3a"
            ],
            [
             0.8888888888888888,
             "#fdca26"
            ],
            [
             1,
             "#f0f921"
            ]
           ]
          },
          "colorway": [
           "#636efa",
           "#EF553B",
           "#00cc96",
           "#ab63fa",
           "#FFA15A",
           "#19d3f3",
           "#FF6692",
           "#B6E880",
           "#FF97FF",
           "#FECB52"
          ],
          "font": {
           "color": "#2a3f5f"
          },
          "geo": {
           "bgcolor": "white",
           "lakecolor": "white",
           "landcolor": "#E5ECF6",
           "showlakes": true,
           "showland": true,
           "subunitcolor": "white"
          },
          "hoverlabel": {
           "align": "left"
          },
          "hovermode": "closest",
          "mapbox": {
           "style": "light"
          },
          "paper_bgcolor": "white",
          "plot_bgcolor": "#E5ECF6",
          "polar": {
           "angularaxis": {
            "gridcolor": "white",
            "linecolor": "white",
            "ticks": ""
           },
           "bgcolor": "#E5ECF6",
           "radialaxis": {
            "gridcolor": "white",
            "linecolor": "white",
            "ticks": ""
           }
          },
          "scene": {
           "xaxis": {
            "backgroundcolor": "#E5ECF6",
            "gridcolor": "white",
            "gridwidth": 2,
            "linecolor": "white",
            "showbackground": true,
            "ticks": "",
            "zerolinecolor": "white"
           },
           "yaxis": {
            "backgroundcolor": "#E5ECF6",
            "gridcolor": "white",
            "gridwidth": 2,
            "linecolor": "white",
            "showbackground": true,
            "ticks": "",
            "zerolinecolor": "white"
           },
           "zaxis": {
            "backgroundcolor": "#E5ECF6",
            "gridcolor": "white",
            "gridwidth": 2,
            "linecolor": "white",
            "showbackground": true,
            "ticks": "",
            "zerolinecolor": "white"
           }
          },
          "shapedefaults": {
           "line": {
            "color": "#2a3f5f"
           }
          },
          "ternary": {
           "aaxis": {
            "gridcolor": "white",
            "linecolor": "white",
            "ticks": ""
           },
           "baxis": {
            "gridcolor": "white",
            "linecolor": "white",
            "ticks": ""
           },
           "bgcolor": "#E5ECF6",
           "caxis": {
            "gridcolor": "white",
            "linecolor": "white",
            "ticks": ""
           }
          },
          "title": {
           "x": 0.05
          },
          "xaxis": {
           "automargin": true,
           "gridcolor": "white",
           "linecolor": "white",
           "ticks": "",
           "title": {
            "standoff": 15
           },
           "zerolinecolor": "white",
           "zerolinewidth": 2
          },
          "yaxis": {
           "automargin": true,
           "gridcolor": "white",
           "linecolor": "white",
           "ticks": "",
           "title": {
            "standoff": 15
           },
           "zerolinecolor": "white",
           "zerolinewidth": 2
          }
         }
        },
        "xaxis": {
         "anchor": "y",
         "domain": [
          0,
          1
         ],
         "title": {
          "text": "pc1"
         }
        },
        "yaxis": {
         "anchor": "x",
         "domain": [
          0,
          1
         ],
         "title": {
          "text": "pc2"
         }
        }
       }
      }
     },
     "metadata": {},
     "output_type": "display_data"
    }
   ],
   "source": [
    "# Tranformando X\n",
    "X_pca = pca.transform(X)\n",
    "\n",
    "# Visualizando\n",
    "df_pca = pd.DataFrame(X_pca, columns = ['pc1','pc2'])\n",
    "df_pca['Modelo'] = df['Modelo']\n",
    "\n",
    "fig = px.scatter(df_pca, x='pc1', y='pc2', color='Modelo')\n",
    "fig.show()"
   ]
  },
  {
   "cell_type": "markdown",
   "metadata": {},
   "source": [
    "### Treinando um Classificador para a Rede em Questão"
   ]
  },
  {
   "cell_type": "code",
   "execution_count": 8,
   "metadata": {},
   "outputs": [
    {
     "name": "stderr",
     "output_type": "stream",
     "text": [
      "C:\\Users\\juanL\\AppData\\Roaming\\Python\\Python38\\site-packages\\sklearn\\model_selection\\_validation.py:686: DataConversionWarning:\n",
      "\n",
      "A column-vector y was passed when a 1d array was expected. Please change the shape of y to (n_samples,), for example using ravel().\n",
      "\n",
      "C:\\Users\\juanL\\AppData\\Roaming\\Python\\Python38\\site-packages\\sklearn\\model_selection\\_validation.py:686: DataConversionWarning:\n",
      "\n",
      "A column-vector y was passed when a 1d array was expected. Please change the shape of y to (n_samples,), for example using ravel().\n",
      "\n",
      "C:\\Users\\juanL\\AppData\\Roaming\\Python\\Python38\\site-packages\\sklearn\\model_selection\\_validation.py:686: DataConversionWarning:\n",
      "\n",
      "A column-vector y was passed when a 1d array was expected. Please change the shape of y to (n_samples,), for example using ravel().\n",
      "\n",
      "C:\\Users\\juanL\\AppData\\Roaming\\Python\\Python38\\site-packages\\sklearn\\model_selection\\_validation.py:686: DataConversionWarning:\n",
      "\n",
      "A column-vector y was passed when a 1d array was expected. Please change the shape of y to (n_samples,), for example using ravel().\n",
      "\n",
      "C:\\Users\\juanL\\AppData\\Roaming\\Python\\Python38\\site-packages\\sklearn\\model_selection\\_validation.py:686: DataConversionWarning:\n",
      "\n",
      "A column-vector y was passed when a 1d array was expected. Please change the shape of y to (n_samples,), for example using ravel().\n",
      "\n"
     ]
    }
   ],
   "source": [
    "X = df_pca[['pc1','pc2']]\n",
    "y = df_pca[['Modelo']]\n",
    "\n",
    "model = RandomForestClassifier()\n",
    "scores = cross_val_score(model, X, y, cv=5, scoring='accuracy')"
   ]
  },
  {
   "cell_type": "code",
   "execution_count": 9,
   "metadata": {},
   "outputs": [
    {
     "name": "stdout",
     "output_type": "stream",
     "text": [
      "Accuracy: 0.89 (+/- 0.07)\n"
     ]
    }
   ],
   "source": [
    "# Results\n",
    "print(\"Accuracy: %0.2f (+/- %0.2f)\" % (scores.mean(), scores.std() * 2))\n",
    "#podemos melhorar"
   ]
  },
  {
   "cell_type": "code",
   "execution_count": 10,
   "metadata": {},
   "outputs": [
    {
     "name": "stderr",
     "output_type": "stream",
     "text": [
      "C:\\Users\\juanL\\AppData\\Local\\Temp\\ipykernel_5676\\1298606489.py:1: DataConversionWarning:\n",
      "\n",
      "A column-vector y was passed when a 1d array was expected. Please change the shape of y to (n_samples,), for example using ravel().\n",
      "\n"
     ]
    },
    {
     "data": {
      "text/html": [
       "<style>#sk-container-id-2 {color: black;background-color: white;}#sk-container-id-2 pre{padding: 0;}#sk-container-id-2 div.sk-toggleable {background-color: white;}#sk-container-id-2 label.sk-toggleable__label {cursor: pointer;display: block;width: 100%;margin-bottom: 0;padding: 0.3em;box-sizing: border-box;text-align: center;}#sk-container-id-2 label.sk-toggleable__label-arrow:before {content: \"▸\";float: left;margin-right: 0.25em;color: #696969;}#sk-container-id-2 label.sk-toggleable__label-arrow:hover:before {color: black;}#sk-container-id-2 div.sk-estimator:hover label.sk-toggleable__label-arrow:before {color: black;}#sk-container-id-2 div.sk-toggleable__content {max-height: 0;max-width: 0;overflow: hidden;text-align: left;background-color: #f0f8ff;}#sk-container-id-2 div.sk-toggleable__content pre {margin: 0.2em;color: black;border-radius: 0.25em;background-color: #f0f8ff;}#sk-container-id-2 input.sk-toggleable__control:checked~div.sk-toggleable__content {max-height: 200px;max-width: 100%;overflow: auto;}#sk-container-id-2 input.sk-toggleable__control:checked~label.sk-toggleable__label-arrow:before {content: \"▾\";}#sk-container-id-2 div.sk-estimator input.sk-toggleable__control:checked~label.sk-toggleable__label {background-color: #d4ebff;}#sk-container-id-2 div.sk-label input.sk-toggleable__control:checked~label.sk-toggleable__label {background-color: #d4ebff;}#sk-container-id-2 input.sk-hidden--visually {border: 0;clip: rect(1px 1px 1px 1px);clip: rect(1px, 1px, 1px, 1px);height: 1px;margin: -1px;overflow: hidden;padding: 0;position: absolute;width: 1px;}#sk-container-id-2 div.sk-estimator {font-family: monospace;background-color: #f0f8ff;border: 1px dotted black;border-radius: 0.25em;box-sizing: border-box;margin-bottom: 0.5em;}#sk-container-id-2 div.sk-estimator:hover {background-color: #d4ebff;}#sk-container-id-2 div.sk-parallel-item::after {content: \"\";width: 100%;border-bottom: 1px solid gray;flex-grow: 1;}#sk-container-id-2 div.sk-label:hover label.sk-toggleable__label {background-color: #d4ebff;}#sk-container-id-2 div.sk-serial::before {content: \"\";position: absolute;border-left: 1px solid gray;box-sizing: border-box;top: 0;bottom: 0;left: 50%;z-index: 0;}#sk-container-id-2 div.sk-serial {display: flex;flex-direction: column;align-items: center;background-color: white;padding-right: 0.2em;padding-left: 0.2em;position: relative;}#sk-container-id-2 div.sk-item {position: relative;z-index: 1;}#sk-container-id-2 div.sk-parallel {display: flex;align-items: stretch;justify-content: center;background-color: white;position: relative;}#sk-container-id-2 div.sk-item::before, #sk-container-id-2 div.sk-parallel-item::before {content: \"\";position: absolute;border-left: 1px solid gray;box-sizing: border-box;top: 0;bottom: 0;left: 50%;z-index: -1;}#sk-container-id-2 div.sk-parallel-item {display: flex;flex-direction: column;z-index: 1;position: relative;background-color: white;}#sk-container-id-2 div.sk-parallel-item:first-child::after {align-self: flex-end;width: 50%;}#sk-container-id-2 div.sk-parallel-item:last-child::after {align-self: flex-start;width: 50%;}#sk-container-id-2 div.sk-parallel-item:only-child::after {width: 0;}#sk-container-id-2 div.sk-dashed-wrapped {border: 1px dashed gray;margin: 0 0.4em 0.5em 0.4em;box-sizing: border-box;padding-bottom: 0.4em;background-color: white;}#sk-container-id-2 div.sk-label label {font-family: monospace;font-weight: bold;display: inline-block;line-height: 1.2em;}#sk-container-id-2 div.sk-label-container {text-align: center;}#sk-container-id-2 div.sk-container {/* jupyter's `normalize.less` sets `[hidden] { display: none; }` but bootstrap.min.css set `[hidden] { display: none !important; }` so we also need the `!important` here to be able to override the default hidden behavior on the sphinx rendered scikit-learn.org. See: https://github.com/scikit-learn/scikit-learn/issues/21755 */display: inline-block !important;position: relative;}#sk-container-id-2 div.sk-text-repr-fallback {display: none;}</style><div id=\"sk-container-id-2\" class=\"sk-top-container\"><div class=\"sk-text-repr-fallback\"><pre>RandomForestClassifier()</pre><b>In a Jupyter environment, please rerun this cell to show the HTML representation or trust the notebook. <br />On GitHub, the HTML representation is unable to render, please try loading this page with nbviewer.org.</b></div><div class=\"sk-container\" hidden><div class=\"sk-item\"><div class=\"sk-estimator sk-toggleable\"><input class=\"sk-toggleable__control sk-hidden--visually\" id=\"sk-estimator-id-2\" type=\"checkbox\" checked><label for=\"sk-estimator-id-2\" class=\"sk-toggleable__label sk-toggleable__label-arrow\">RandomForestClassifier</label><div class=\"sk-toggleable__content\"><pre>RandomForestClassifier()</pre></div></div></div></div></div>"
      ],
      "text/plain": [
       "RandomForestClassifier()"
      ]
     },
     "execution_count": 10,
     "metadata": {},
     "output_type": "execute_result"
    }
   ],
   "source": [
    "model.fit(X,y)"
   ]
  },
  {
   "cell_type": "markdown",
   "metadata": {},
   "source": [
    "### Rodar as redes reais - transformar o PCA e fazer a predição para descobrir à qual modelo ela mais se adequa"
   ]
  },
  {
   "cell_type": "code",
   "execution_count": 24,
   "metadata": {},
   "outputs": [
    {
     "data": {
      "image/png": "[encoded data removed]",
      "text/plain": [
       "<Figure size 1800x500 with 3 Axes>"
      ]
     },
     "metadata": {},
     "output_type": "display_data"
    }
   ],
   "source": [
    "# carregando as redes reais:\n",
    "adol = ler_rede('adolescente', grafo=True)\n",
    "face = ler_rede('facebook', grafo=True)\n",
    "hams = ler_rede('hamster', grafo=True)\n",
    "\n",
    "# gerando um grafico de todas elas\n",
    "plt.figure(figsize=(18, 5))\n",
    "\n",
    "pos_a = nx.spring_layout(adol, iterations=30, k=0.3)\n",
    "pos_f = nx.spring_layout(face, iterations=20, k=0.1)\n",
    "pos_h = nx.spring_layout(hams, iterations=30, k=0.3)\n",
    "\n",
    "plt.subplot(1, 3, 1)\n",
    "nx.draw(adol, pos_a, node_color='red', node_size=10, with_labels=False)\n",
    "plt.title(f'(Adolescente) N = {len(adol)}\\n<k> ~= {grau_medio(adol):.2f}')\n",
    "\n",
    "plt.subplot(1, 3, 2)\n",
    "nx.draw(face, pos_f, node_color='blue', node_size=10, with_labels=False)\n",
    "plt.title(f'(Facebook) N = {len(face)}\\n<k> ~= {grau_medio(face):.2f}')\n",
    "\n",
    "plt.subplot(1, 3, 3)\n",
    "nx.draw(hams, pos_h, node_color='orange', node_size=10, with_labels=False)\n",
    "plt.title(f'(Hamster) N = {len(hams)}\\n<k> ~= {grau_medio(hams):.2f}')\n",
    "\n",
    "plt.show()"
   ]
  },
  {
   "cell_type": "code",
   "execution_count": 19,
   "metadata": {},
   "outputs": [
    {
     "data": {
      "text/html": [
       "<div>\n",
       "<style scoped>\n",
       "    .dataframe tbody tr th:only-of-type {\n",
       "        vertical-align: middle;\n",
       "    }\n",
       "\n",
       "    .dataframe tbody tr th {\n",
       "        vertical-align: top;\n",
       "    }\n",
       "\n",
       "    .dataframe thead th {\n",
       "        text-align: right;\n",
       "    }\n",
       "</style>\n",
       "<table border=\"1\" class=\"dataframe\">\n",
       "  <thead>\n",
       "    <tr style=\"text-align: right;\">\n",
       "      <th></th>\n",
       "      <th>grau_medio</th>\n",
       "      <th>assortatividade</th>\n",
       "      <th>coef_clusterizacao</th>\n",
       "      <th>transitividade</th>\n",
       "      <th>entropia</th>\n",
       "      <th>media_dos_menores_caminhos</th>\n",
       "      <th>intermediacao_media</th>\n",
       "      <th>ponto_central_de_dominancia</th>\n",
       "      <th>diametro</th>\n",
       "      <th>metrica_s</th>\n",
       "      <th>qtd_baricentros</th>\n",
       "      <th>excentricidade_media</th>\n",
       "      <th>cor_grau_e_grau_medio_vizinhos</th>\n",
       "      <th>cor_grau_e_proximidade</th>\n",
       "      <th>cor_grau_e_cliques</th>\n",
       "    </tr>\n",
       "  </thead>\n",
       "  <tbody>\n",
       "    <tr>\n",
       "      <th>0</th>\n",
       "      <td>8.235526</td>\n",
       "      <td>0.251286</td>\n",
       "      <td>0.146677</td>\n",
       "      <td>0.141888</td>\n",
       "      <td>4.055626</td>\n",
       "      <td>4.559388</td>\n",
       "      <td>0.001403</td>\n",
       "      <td>0.010862</td>\n",
       "      <td>10.0</td>\n",
       "      <td>1205668.0</td>\n",
       "      <td>1.0</td>\n",
       "      <td>7.515557</td>\n",
       "      <td>0.485549</td>\n",
       "      <td>0.753804</td>\n",
       "      <td>0.945545</td>\n",
       "    </tr>\n",
       "    <tr>\n",
       "      <th>1</th>\n",
       "      <td>2.064404</td>\n",
       "      <td>-0.668214</td>\n",
       "      <td>0.027247</td>\n",
       "      <td>0.000359</td>\n",
       "      <td>0.254405</td>\n",
       "      <td>3.867421</td>\n",
       "      <td>0.000994</td>\n",
       "      <td>0.548903</td>\n",
       "      <td>9.0</td>\n",
       "      <td>2298934.0</td>\n",
       "      <td>1.0</td>\n",
       "      <td>6.759695</td>\n",
       "      <td>-0.093737</td>\n",
       "      <td>0.116812</td>\n",
       "      <td>0.999966</td>\n",
       "    </tr>\n",
       "  </tbody>\n",
       "</table>\n",
       "</div>"
      ],
      "text/plain": [
       "   grau_medio  assortatividade  coef_clusterizacao  transitividade  entropia   \n",
       "0    8.235526         0.251286            0.146677        0.141888  4.055626  \\\n",
       "1    2.064404        -0.668214            0.027247        0.000359  0.254405   \n",
       "\n",
       "   media_dos_menores_caminhos  intermediacao_media   \n",
       "0                    4.559388             0.001403  \\\n",
       "1                    3.867421             0.000994   \n",
       "\n",
       "   ponto_central_de_dominancia  diametro  metrica_s  qtd_baricentros   \n",
       "0                     0.010862      10.0  1205668.0              1.0  \\\n",
       "1                     0.548903       9.0  2298934.0              1.0   \n",
       "\n",
       "   excentricidade_media  cor_grau_e_grau_medio_vizinhos   \n",
       "0              7.515557                        0.485549  \\\n",
       "1              6.759695                       -0.093737   \n",
       "\n",
       "   cor_grau_e_proximidade  cor_grau_e_cliques  \n",
       "0                0.753804            0.945545  \n",
       "1                0.116812            0.999966  "
      ]
     },
     "execution_count": 19,
     "metadata": {},
     "output_type": "execute_result"
    }
   ],
   "source": [
    "# calculando as medidas para cada rede:\n",
    "X_adol = pd.DataFrame(calcula_medidas(adol), index=[1])\n",
    "X_face = pd.DataFrame(calcula_medidas(face), index=[2])\n",
    "X_hams = pd.DataFrame(calcula_medidas(hams), index=[3])\n",
    "\n",
    "# juntando tudo:\n",
    "X_real = pd.concat([X_adol, X_face, X_hams], axis=0, ignore_index=True).head(2)\n",
    "X_real.head()"
   ]
  },
  {
   "cell_type": "code",
   "execution_count": 20,
   "metadata": {},
   "outputs": [
    {
     "data": {
      "text/html": [
       "<div>\n",
       "<style scoped>\n",
       "    .dataframe tbody tr th:only-of-type {\n",
       "        vertical-align: middle;\n",
       "    }\n",
       "\n",
       "    .dataframe tbody tr th {\n",
       "        vertical-align: top;\n",
       "    }\n",
       "\n",
       "    .dataframe thead th {\n",
       "        text-align: right;\n",
       "    }\n",
       "</style>\n",
       "<table border=\"1\" class=\"dataframe\">\n",
       "  <thead>\n",
       "    <tr style=\"text-align: right;\">\n",
       "      <th></th>\n",
       "      <th>pc1</th>\n",
       "      <th>pc2</th>\n",
       "    </tr>\n",
       "  </thead>\n",
       "  <tbody>\n",
       "    <tr>\n",
       "      <th>0</th>\n",
       "      <td>-559503.841248</td>\n",
       "      <td>-114.301065</td>\n",
       "    </tr>\n",
       "    <tr>\n",
       "      <th>1</th>\n",
       "      <td>533762.158288</td>\n",
       "      <td>-82.651146</td>\n",
       "    </tr>\n",
       "  </tbody>\n",
       "</table>\n",
       "</div>"
      ],
      "text/plain": [
       "             pc1         pc2\n",
       "0 -559503.841248 -114.301065\n",
       "1  533762.158288  -82.651146"
      ]
     },
     "execution_count": 20,
     "metadata": {},
     "output_type": "execute_result"
    }
   ],
   "source": [
    "x_real_pca = pd.DataFrame(pca.transform(X_real), columns=['pc1','pc2'])\n",
    "x_real_pca"
   ]
  },
  {
   "cell_type": "code",
   "execution_count": 23,
   "metadata": {},
   "outputs": [
    {
     "data": {
      "text/html": [
       "<div>\n",
       "<style scoped>\n",
       "    .dataframe tbody tr th:only-of-type {\n",
       "        vertical-align: middle;\n",
       "    }\n",
       "\n",
       "    .dataframe tbody tr th {\n",
       "        vertical-align: top;\n",
       "    }\n",
       "\n",
       "    .dataframe thead th {\n",
       "        text-align: right;\n",
       "    }\n",
       "</style>\n",
       "<table border=\"1\" class=\"dataframe\">\n",
       "  <thead>\n",
       "    <tr style=\"text-align: right;\">\n",
       "      <th></th>\n",
       "      <th>grau_medio</th>\n",
       "      <th>assortatividade</th>\n",
       "      <th>coef_clusterizacao</th>\n",
       "      <th>transitividade</th>\n",
       "      <th>entropia</th>\n",
       "      <th>media_dos_menores_caminhos</th>\n",
       "      <th>intermediacao_media</th>\n",
       "      <th>ponto_central_de_dominancia</th>\n",
       "      <th>diametro</th>\n",
       "      <th>metrica_s</th>\n",
       "      <th>qtd_baricentros</th>\n",
       "      <th>excentricidade_media</th>\n",
       "      <th>cor_grau_e_grau_medio_vizinhos</th>\n",
       "      <th>cor_grau_e_proximidade</th>\n",
       "      <th>cor_grau_e_cliques</th>\n",
       "      <th>predict</th>\n",
       "    </tr>\n",
       "  </thead>\n",
       "  <tbody>\n",
       "    <tr>\n",
       "      <th>0</th>\n",
       "      <td>8.235526</td>\n",
       "      <td>0.251286</td>\n",
       "      <td>0.146677</td>\n",
       "      <td>0.141888</td>\n",
       "      <td>4.055626</td>\n",
       "      <td>4.559388</td>\n",
       "      <td>0.001403</td>\n",
       "      <td>0.010862</td>\n",
       "      <td>10.0</td>\n",
       "      <td>1205668.0</td>\n",
       "      <td>1.0</td>\n",
       "      <td>7.515557</td>\n",
       "      <td>0.485549</td>\n",
       "      <td>0.753804</td>\n",
       "      <td>0.945545</td>\n",
       "      <td>WS p=0.01</td>\n",
       "    </tr>\n",
       "    <tr>\n",
       "      <th>1</th>\n",
       "      <td>2.064404</td>\n",
       "      <td>-0.668214</td>\n",
       "      <td>0.027247</td>\n",
       "      <td>0.000359</td>\n",
       "      <td>0.254405</td>\n",
       "      <td>3.867421</td>\n",
       "      <td>0.000994</td>\n",
       "      <td>0.548903</td>\n",
       "      <td>9.0</td>\n",
       "      <td>2298934.0</td>\n",
       "      <td>1.0</td>\n",
       "      <td>6.759695</td>\n",
       "      <td>-0.093737</td>\n",
       "      <td>0.116812</td>\n",
       "      <td>0.999966</td>\n",
       "      <td>WS p=1</td>\n",
       "    </tr>\n",
       "  </tbody>\n",
       "</table>\n",
       "</div>"
      ],
      "text/plain": [
       "   grau_medio  assortatividade  coef_clusterizacao  transitividade  entropia   \n",
       "0    8.235526         0.251286            0.146677        0.141888  4.055626  \\\n",
       "1    2.064404        -0.668214            0.027247        0.000359  0.254405   \n",
       "\n",
       "   media_dos_menores_caminhos  intermediacao_media   \n",
       "0                    4.559388             0.001403  \\\n",
       "1                    3.867421             0.000994   \n",
       "\n",
       "   ponto_central_de_dominancia  diametro  metrica_s  qtd_baricentros   \n",
       "0                     0.010862      10.0  1205668.0              1.0  \\\n",
       "1                     0.548903       9.0  2298934.0              1.0   \n",
       "\n",
       "   excentricidade_media  cor_grau_e_grau_medio_vizinhos   \n",
       "0              7.515557                        0.485549  \\\n",
       "1              6.759695                       -0.093737   \n",
       "\n",
       "   cor_grau_e_proximidade  cor_grau_e_cliques    predict  \n",
       "0                0.753804            0.945545  WS p=0.01  \n",
       "1                0.116812            0.999966     WS p=1  "
      ]
     },
     "execution_count": 23,
     "metadata": {},
     "output_type": "execute_result"
    }
   ],
   "source": [
    "X_real['predict'] = model.predict(x_real_pca)\n",
    "X_real"
   ]
  },
  {
   "cell_type": "markdown",
   "metadata": {},
   "source": [
    "### Conclusão"
   ]
  }
 ],
 "metadata": {
  "kernelspec": {
   "display_name": "Python 3",
   "language": "python",
   "name": "python3"
  },
  "language_info": {
   "codemirror_mode": {
    "name": "ipython",
    "version": 3
   },
   "file_extension": ".py",
   "mimetype": "text/x-python",
   "name": "python",
   "nbconvert_exporter": "python",
   "pygments_lexer": "ipython3",
   "version": "3.8.10"
  },
  "orig_nbformat": 4
 },
 "nbformat": 4,
 "nbformat_minor": 2
}
