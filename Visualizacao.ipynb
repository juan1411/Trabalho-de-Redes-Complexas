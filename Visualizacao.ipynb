{
 "cells": [
  {
   "cell_type": "code",
   "execution_count": 5,
   "metadata": {},
   "outputs": [],
   "source": [
    "# importações\n",
    "from numpy import *\n",
    "import numpy as np\n",
    "import matplotlib.pyplot as plt\n",
    "import networkx as nx\n",
    "\n",
    "from CONSTANTES import *\n",
    "from simulacao import *"
   ]
  },
  {
   "cell_type": "code",
   "execution_count": 6,
   "metadata": {},
   "outputs": [
    {
     "name": "stdout",
     "output_type": "stream",
     "text": [
      "\n",
      "# Iniciando simulações do Modelo Erdos-renyi #\n",
      "\n",
      "Rede Social -- twitter-pequeno\n",
      "N: 23370, <k>: 2.8097\n",
      "Tempo com a rede: 0.06 segs.\n",
      "\n",
      "Començando as simulações para a rede twitter-pequeno \n",
      "\n",
      "Twitter-pequeno \tSimulação #1 \tOK\n",
      "Twitter-pequeno \tMedidas #1 \tOK\n",
      "Twitter-pequeno \tSimulação #4 \tOK\n",
      "Twitter-pequeno \tMedidas #4 \tOK\n",
      "Twitter-pequeno \tSimulação #3 \tOK\n",
      "Twitter-pequeno \tMedidas #3 \tOK\n",
      "Twitter-pequeno \tSimulação #5 \tOK\n",
      "Twitter-pequeno \tMedidas #5 \tOK\n",
      "Twitter-pequeno \tSimulação #2 \tOK\n",
      "Twitter-pequeno \tMedidas #2 \tOK\n",
      "Twitter-pequeno \tSimulação #6 \tOK\n",
      "Twitter-pequeno \tMedidas #6 \tOK\n",
      "Twitter-pequeno \tSimulação #8 \tOK\n",
      "Twitter-pequeno \tMedidas #8 \tOK\n",
      "Twitter-pequeno \tSimulação #7 \tOK\n",
      "Twitter-pequeno \tMedidas #7 \tOK\n",
      "Twitter-pequeno \tSimulação #9 \tOK\n",
      "Twitter-pequeno \tMedidas #9 \tOK\n",
      "Twitter-pequeno \tSimulação #10 \tOK\n",
      "Twitter-pequeno \tMedidas #10 \tOK\n",
      "\n",
      "Fim das simulações para a rede twitter-pequeno\n",
      "Tempo de simulação: 0 mins e 50.75 segs.\n",
      "\n",
      "Fim de todas as simulações. Tempo total: 0 mins e 50.75 segs.\n",
      "\n",
      "Começando agora a compilar o arquivo [Modelo_erdos-renyi.csv] com os resultados.\n",
      "Fim da compilação dos resultados.\n",
      "Tempo de compilação: 0.00 segs.\n",
      "\n",
      "Fim de todas as simulações do modelo Erdos-renyi para todas as redes sociais.\n",
      "Tempo necessário para executar tudo: 0 mins e 50.81 segs.\n",
      "\n",
      "\n",
      "# Iniciando simulações do Modelo Barabasi-albert #\n",
      "\n",
      "Rede Social -- twitter-pequeno\n",
      "N: 23370, <k>: 2.8097\n",
      "Tempo com a rede: 0.06 segs.\n",
      "\n",
      "Començando as simulações para a rede twitter-pequeno \n",
      "\n",
      "Twitter-pequeno \tSimulação #3 \tOK\n",
      "Twitter-pequeno \tMedidas #3 \tOK\n",
      "Twitter-pequeno \tSimulação #1 \tOK\n",
      "Twitter-pequeno \tMedidas #1 \tOK\n",
      "Twitter-pequeno \tSimulação #4 \tOK\n",
      "Twitter-pequeno \tMedidas #4 \tOK\n",
      "Twitter-pequeno \tSimulação #2 \tOK\n",
      "Twitter-pequeno \tMedidas #2 \tOK\n",
      "Twitter-pequeno \tSimulação #5 \tOK\n",
      "Twitter-pequeno \tMedidas #5 \tOK\n",
      "Twitter-pequeno \tSimulação #6 \tOK\n",
      "Twitter-pequeno \tMedidas #6 \tOK\n",
      "Twitter-pequeno \tSimulação #7 \tOK\n",
      "Twitter-pequeno \tMedidas #7 \tOK\n",
      "Twitter-pequeno \tSimulação #8 \tOK\n",
      "Twitter-pequeno \tMedidas #8 \tOK\n",
      "Twitter-pequeno \tSimulação #9 \tOK\n",
      "Twitter-pequeno \tMedidas #9 \tOK\n",
      "Twitter-pequeno \tSimulação #10 \tOK\n",
      "Twitter-pequeno \tMedidas #10 \tOK\n",
      "\n",
      "Fim das simulações para a rede twitter-pequeno\n",
      "Tempo de simulação: 0 mins e 4.16 segs.\n",
      "\n",
      "Fim de todas as simulações. Tempo total: 0 mins e 4.16 segs.\n",
      "\n",
      "Começando agora a compilar o arquivo [Modelo_barabasi-albert.csv] com os resultados.\n",
      "Fim da compilação dos resultados.\n",
      "Tempo de compilação: 0.00 segs.\n",
      "\n",
      "Fim de todas as simulações do modelo Barabasi-albert para todas as redes sociais.\n",
      "Tempo necessário para executar tudo: 0 mins e 4.21 segs.\n",
      "\n"
     ]
    }
   ],
   "source": [
    "opcoes = list(SIMULE.keys())\n",
    "for modelo in opcoes:\n",
    "    main(modelo)"
   ]
  },
  {
   "cell_type": "code",
   "execution_count": 2,
   "metadata": {},
   "outputs": [
    {
     "name": "stdout",
     "output_type": "stream",
     "text": [
      "Rede Social -- twitter-pequeno\n",
      "<k>: 2.809670517757809 \tN: 23370\n"
     ]
    }
   ],
   "source": [
    "# teste:\n",
    "for rede in redes_sociais.keys():\n",
    "\n",
    "    ######################################\n",
    "    # lidando com a rede social\n",
    "    ######################################\n",
    "    print('Rede Social --', rede)\n",
    "\n",
    "    G = nx.read_edgelist(\"redes/\" + redes_sociais[rede], comments='%', nodetype=int)\n",
    "    grau_medio = np.array(G.degree)[:, 1].mean()\n",
    "    N = len(G)\n",
    "    print('<k>:', grau_medio, '\\tN:', N)"
   ]
  },
  {
   "cell_type": "code",
   "execution_count": 7,
   "metadata": {},
   "outputs": [
    {
     "data": {
      "text/plain": [
       "2.8125802310654686"
      ]
     },
     "execution_count": 7,
     "metadata": {},
     "output_type": "execute_result"
    }
   ],
   "source": [
    "# teste de simulação:\n",
    "aux = nx.erdos_renyi_graph(N, grau_medio/(N-1), seed=42)\n",
    "\n",
    "# plt.figure(figsize=(12,8))\n",
    "# pos = nx.spring_layout(aux, iterations=30, k=0.5)\n",
    "# nx.draw(aux, node_size=20, with_labels=False)\n",
    "\n",
    "MEDIDAS['grau_medio'](aux)"
   ]
  }
 ],
 "metadata": {
  "kernelspec": {
   "display_name": "Python 3",
   "language": "python",
   "name": "python3"
  },
  "language_info": {
   "codemirror_mode": {
    "name": "ipython",
    "version": 3
   },
   "file_extension": ".py",
   "mimetype": "text/x-python",
   "name": "python",
   "nbconvert_exporter": "python",
   "pygments_lexer": "ipython3",
   "version": "3.11.0"
  },
  "orig_nbformat": 4
 },
 "nbformat": 4,
 "nbformat_minor": 2
}
