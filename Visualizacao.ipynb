{
 "cells": [
  {
   "attachments": {},
   "cell_type": "markdown",
   "metadata": {},
   "source": [
    "# Projeto de Redes Complexas \n",
    "\n",
    "## Integrantes e N° USP\n",
    "\n",
    "Akemi \n",
    "\n",
    "Caio Vinicius de Oliveira 11932272\n",
    "\n",
    "Emerson\n",
    "\n",
    "Juan"
   ]
  },
  {
   "attachments": {},
   "cell_type": "markdown",
   "metadata": {},
   "source": [
    "---------------------------------------------------------------------------"
   ]
  },
  {
   "attachments": {},
   "cell_type": "markdown",
   "metadata": {},
   "source": [
    "## Qual tipo de rede é mais adequado para redes sociais?"
   ]
  },
  {
   "attachments": {},
   "cell_type": "markdown",
   "metadata": {},
   "source": [
    "Primeiro passo, rodamos uma simulação em python que baixa 3 redes sociais :\n",
    "\n",
    "- Twitter : Cada nó é um usuário e as conexões ocorrem se um usuário segue o outro\n",
    "- Facebook : Cada nó é um usuário e as conexões ocorrem se um usuário é amigo do outro\n",
    "- Hamsterster : Cada nó é um usuário e as conexões ocorrem se um usuário é amigo do outro\n",
    "\n",
    "Após isso, para esses 3 modelos, simulamos 3 modelos de redes (BA,ER,WS) e calculamos várias medidas características para essas redes,\n",
    "sendo elas:\n",
    "\n",
    "- Grau Médio\n",
    "- Assortatividade\n",
    "- Coeficiente de Clusterização\n",
    "- Transitividade\n",
    "- Entropia de Shannon\n",
    "\n"
   ]
  },
  {
   "cell_type": "code",
   "execution_count": 1,
   "metadata": {},
   "outputs": [],
   "source": [
    "# importações\n",
    "from numpy import *\n",
    "import numpy as np\n",
    "import matplotlib.pyplot as plt\n",
    "import networkx as nx\n",
    "\n",
    "from CONSTANTES import *\n",
    "from simulacao import *"
   ]
  },
  {
   "cell_type": "code",
   "execution_count": 2,
   "metadata": {},
   "outputs": [
    {
     "name": "stdout",
     "output_type": "stream",
     "text": [
      "\n",
      "# Iniciando simulações do Modelo Erdos-renyi #\n",
      "\n",
      "Rede Social -- twitter-pequeno\n",
      "N: 22322, <k>: 2.8513\n",
      "Tempo com a rede: 0.54 segs.\n",
      "\n",
      "Començando as simulações para a rede twitter-pequeno \n",
      "\n",
      "Twitter-pequeno \tSimulação #5 \tOK\n",
      "Tentando calcular a medida average_shortests_path_lenght ocorreu o erro: Graph is not connected.\n",
      "Twitter-pequeno \tMedidas #5 \tOK\n",
      "Twitter-pequeno \tSimulação #1 \tOK\n",
      "Tentando calcular a medida average_shortests_path_lenght ocorreu o erro: Graph is not connected.\n",
      "Twitter-pequeno \tMedidas #1 \tOK\n",
      "Twitter-pequeno \tSimulação #2 \tOK\n",
      "Tentando calcular a medida average_shortests_path_lenght ocorreu o erro: Graph is not connected.\n",
      "Twitter-pequeno \tMedidas #2 \tOK\n",
      "Twitter-pequeno \tSimulação #4 \tOK\n",
      "Tentando calcular a medida average_shortests_path_lenght ocorreu o erro: Graph is not connected.\n",
      "Twitter-pequeno \tMedidas #4 \tOK\n",
      "Twitter-pequeno \tSimulação #3 \tOK\n",
      "Tentando calcular a medida average_shortests_path_lenght ocorreu o erro: Graph is not connected.\n",
      "Twitter-pequeno \tMedidas #3 \tOK\n",
      "Twitter-pequeno \tSimulação #6 \tOK\n",
      "Tentando calcular a medida average_shortests_path_lenght ocorreu o erro: Graph is not connected.\n",
      "Twitter-pequeno \tMedidas #6 \tOK\n",
      "Twitter-pequeno \tSimulação #8 \tOK\n",
      "Tentando calcular a medida average_shortests_path_lenght ocorreu o erro: Graph is not connected.\n",
      "Twitter-pequeno \tMedidas #8 \tOK\n",
      "Twitter-pequeno \tSimulação #7 \tOK\n",
      "Tentando calcular a medida average_shortests_path_lenght ocorreu o erro: Graph is not connected.\n",
      "Twitter-pequeno \tMedidas #7 \tOK\n",
      "Twitter-pequeno \tSimulação #9 \tOK\n",
      "Tentando calcular a medida average_shortests_path_lenght ocorreu o erro: Graph is not connected.\n",
      "Twitter-pequeno \tMedidas #9 \tOK\n",
      "Twitter-pequeno \tSimulação #10 \tOK\n",
      "Tentando calcular a medida average_shortests_path_lenght ocorreu o erro: Graph is not connected.\n",
      "Twitter-pequeno \tMedidas #10 \tOK\n",
      "\n",
      "Fim das simulações para a rede twitter-pequeno\n",
      "Tempo de simulação: 0 mins e 44.31 segs.\n",
      "\n",
      "Rede Social -- facebook\n",
      "N: 2888, <k>: 2.0644\n",
      "Tempo com a rede: 0.04 segs.\n",
      "\n",
      "Començando as simulações para a rede facebook \n",
      "\n",
      "Facebook \tSimulação #5 \tOK\n",
      "Tentando calcular a medida average_shortests_path_lenght ocorreu o erro: Graph is not connected.\n",
      "Facebook \tMedidas #5 \tOK\n",
      "Facebook \tSimulação #2 \tOK\n",
      "Tentando calcular a medida average_shortests_path_lenght ocorreu o erro: Graph is not connected.\n",
      "Facebook \tMedidas #2 \tOK\n",
      "Facebook \tSimulação #1 \tOK\n",
      "Tentando calcular a medida average_shortests_path_lenght ocorreu o erro: Graph is not connected.\n",
      "Facebook \tMedidas #1 \tOK\n",
      "Facebook \tSimulação #4 \tOK\n",
      "Tentando calcular a medida average_shortests_path_lenght ocorreu o erro: Graph is not connected.\n",
      "Facebook \tMedidas #4 \tOK\n",
      "Facebook \tSimulação #3 \tOK\n",
      "Tentando calcular a medida average_shortests_path_lenght ocorreu o erro: Graph is not connected.\n",
      "Facebook \tMedidas #3 \tOK\n",
      "Facebook \tSimulação #6 \tOK\n",
      "Tentando calcular a medida average_shortests_path_lenght ocorreu o erro: Graph is not connected.\n",
      "Facebook \tMedidas #6 \tOK\n",
      "Facebook \tSimulação #7 \tOK\n",
      "Tentando calcular a medida average_shortests_path_lenght ocorreu o erro: Graph is not connected.\n",
      "Facebook \tMedidas #7 \tOK\n",
      "Facebook \tSimulação #8 \tOK\n",
      "Tentando calcular a medida average_shortests_path_lenght ocorreu o erro: Graph is not connected.\n",
      "Facebook \tMedidas #8 \tOK\n",
      "Facebook \tSimulação #9 \tOK\n",
      "Tentando calcular a medida average_shortests_path_lenght ocorreu o erro: Graph is not connected.\n",
      "Facebook \tMedidas #9 \tOK\n",
      "Facebook \tSimulação #10 \tOK\n",
      "Tentando calcular a medida average_shortests_path_lenght ocorreu o erro: Graph is not connected.\n",
      "Facebook \tMedidas #10 \tOK\n",
      "\n",
      "Fim das simulações para a rede facebook\n",
      "Tempo de simulação: 0 mins e 2.59 segs.\n",
      "\n",
      "Rede Social -- hamster\n",
      "N: 2000, <k>: 16.0980\n",
      "Tempo com a rede: 0.46 segs.\n",
      "\n",
      "Començando as simulações para a rede hamster \n",
      "\n",
      "Hamster \tSimulação #3 \tOK\n",
      "Hamster \tMedidas #3 \tOK\n",
      "Hamster \tSimulação #1 \tOK\n",
      "Hamster \tMedidas #1 \tOK\n",
      "Hamster \tSimulação #5 \tOK\n",
      "Hamster \tMedidas #5 \tOK\n",
      "Hamster \tSimulação #4 \tOK\n",
      "Hamster \tMedidas #4 \tOK\n",
      "Hamster \tSimulação #2 \tOK\n",
      "Hamster \tMedidas #2 \tOK\n",
      "Hamster \tSimulação #6 \tOK\n",
      "Hamster \tMedidas #6 \tOK\n",
      "Hamster \tSimulação #7 \tOK\n",
      "Hamster \tMedidas #7 \tOK\n",
      "Hamster \tSimulação #8 \tOK\n",
      "Hamster \tMedidas #8 \tOK\n",
      "Hamster \tSimulação #9 \tOK\n",
      "Hamster \tMedidas #9 \tOK\n",
      "Hamster \tSimulação #10 \tOK\n",
      "Hamster \tMedidas #10 \tOK\n",
      "\n",
      "Fim das simulações para a rede hamster\n",
      "Tempo de simulação: 1 mins e 12.43 segs.\n",
      "\n",
      "Fim de todas as simulações. Tempo total: 1 mins e 59.33 segs.\n",
      "\n",
      "Começando agora a compilar o arquivo [Modelo_erdos-renyi.csv] com os resultados.\n",
      "Fim da compilação dos resultados.\n",
      "Tempo de compilação: 0.00 segs.\n",
      "\n",
      "Fim de todas as simulações do modelo Erdos-renyi para todas as redes sociais.\n",
      "Tempo necessário para executar tudo: 2 mins e 0.37 segs.\n",
      "\n",
      "\n",
      "# Iniciando simulações do Modelo Barabasi-albert #\n",
      "\n",
      "Rede Social -- twitter-pequeno\n",
      "N: 22322, <k>: 2.8513\n",
      "Tempo com a rede: 0.53 segs.\n",
      "\n",
      "Començando as simulações para a rede twitter-pequeno \n",
      "\n",
      "Twitter-pequeno \tSimulação #1 \tOK\n"
     ]
    },
    {
     "ename": "KeyboardInterrupt",
     "evalue": "",
     "output_type": "error",
     "traceback": [
      "\u001b[1;31m---------------------------------------------------------------------------\u001b[0m",
      "\u001b[1;31mKeyboardInterrupt\u001b[0m                         Traceback (most recent call last)",
      "Cell \u001b[1;32mIn[2], line 3\u001b[0m\n\u001b[0;32m      1\u001b[0m opcoes \u001b[39m=\u001b[39m \u001b[39mlist\u001b[39m(SIMULE\u001b[39m.\u001b[39mkeys())\n\u001b[0;32m      2\u001b[0m \u001b[39mfor\u001b[39;00m modelo \u001b[39min\u001b[39;00m opcoes:\n\u001b[1;32m----> 3\u001b[0m     main(modelo)\n",
      "File \u001b[1;32mc:\\Users\\caiov\\OneDrive\\Documentos\\Faculdade\\Git\\Trabalho-de-Redes-Complexas\\simulacao.py:171\u001b[0m, in \u001b[0;36mmain\u001b[1;34m(modelo)\u001b[0m\n\u001b[0;32m    168\u001b[0m         G_simulado \u001b[39m=\u001b[39m simulacao\u001b[39m.\u001b[39mresult()\n\u001b[0;32m    170\u001b[0m         \u001b[39m# calculando todas as medidas para o grafo simulado\u001b[39;00m\n\u001b[1;32m--> 171\u001b[0m         calcula_medidas(G_simulado, ite, nome_rede)\n\u001b[0;32m    172\u001b[0m         \u001b[39mprint\u001b[39m(\u001b[39mf\u001b[39m\u001b[39m'\u001b[39m\u001b[39m{\u001b[39;00mrede\u001b[39m.\u001b[39mcapitalize()\u001b[39m}\u001b[39;00m\u001b[39m \u001b[39m\u001b[39m\\t\u001b[39;00m\u001b[39mMedidas #\u001b[39m\u001b[39m{\u001b[39;00mite\u001b[39m}\u001b[39;00m\u001b[39m \u001b[39m\u001b[39m\\t\u001b[39;00m\u001b[39mOK\u001b[39m\u001b[39m'\u001b[39m)\n\u001b[0;32m    175\u001b[0m \u001b[39m# atualizando os tempos\u001b[39;00m\n",
      "File \u001b[1;32mc:\\Users\\caiov\\OneDrive\\Documentos\\Faculdade\\Git\\Trabalho-de-Redes-Complexas\\simulacao.py:68\u001b[0m, in \u001b[0;36mcalcula_medidas\u001b[1;34m(G, iteracao, nome_rede)\u001b[0m\n\u001b[0;32m     65\u001b[0m medida \u001b[39m=\u001b[39m np\u001b[39m.\u001b[39mnan \u001b[39m# inicializa a medida como NaN caso de algum erro\u001b[39;00m\n\u001b[0;32m     67\u001b[0m \u001b[39mtry\u001b[39;00m: \u001b[39m# tentando calcular a medida\u001b[39;00m\n\u001b[1;32m---> 68\u001b[0m     medida \u001b[39m=\u001b[39m MEDIDAS[med](G)\n\u001b[0;32m     70\u001b[0m \u001b[39mexcept\u001b[39;00m \u001b[39mException\u001b[39;00m \u001b[39mas\u001b[39;00m e: \u001b[39m# log de erro\u001b[39;00m\n\u001b[0;32m     71\u001b[0m     \u001b[39mprint\u001b[39m(\u001b[39m'\u001b[39m\u001b[39mTentando calcular a medida\u001b[39m\u001b[39m'\u001b[39m, med, \u001b[39m'\u001b[39m\u001b[39mocorreu o erro:\u001b[39m\u001b[39m'\u001b[39m, e)\n",
      "File \u001b[1;32mc:\\Users\\caiov\\AppData\\Local\\Programs\\Python\\Python311\\Lib\\site-packages\\networkx\\algorithms\\shortest_paths\\generic.py:425\u001b[0m, in \u001b[0;36maverage_shortest_path_length\u001b[1;34m(G, weight, method)\u001b[0m\n\u001b[0;32m    421\u001b[0m         \u001b[39mreturn\u001b[39;00m nx\u001b[39m.\u001b[39msingle_source_bellman_ford_path_length(G, v, weight\u001b[39m=\u001b[39mweight)\n\u001b[0;32m    423\u001b[0m \u001b[39mif\u001b[39;00m method \u001b[39min\u001b[39;00m single_source_methods:\n\u001b[0;32m    424\u001b[0m     \u001b[39m# Sum the distances for each (ordered) pair of source and target node.\u001b[39;00m\n\u001b[1;32m--> 425\u001b[0m     s \u001b[39m=\u001b[39m \u001b[39msum\u001b[39m(l \u001b[39mfor\u001b[39;00m u \u001b[39min\u001b[39;00m G \u001b[39mfor\u001b[39;00m l \u001b[39min\u001b[39;00m path_length(u)\u001b[39m.\u001b[39mvalues())\n\u001b[0;32m    426\u001b[0m \u001b[39melse\u001b[39;00m:\n\u001b[0;32m    427\u001b[0m     \u001b[39mif\u001b[39;00m method \u001b[39m==\u001b[39m \u001b[39m\"\u001b[39m\u001b[39mfloyd-warshall\u001b[39m\u001b[39m\"\u001b[39m:\n",
      "File \u001b[1;32mc:\\Users\\caiov\\AppData\\Local\\Programs\\Python\\Python311\\Lib\\site-packages\\networkx\\algorithms\\shortest_paths\\generic.py:425\u001b[0m, in \u001b[0;36m<genexpr>\u001b[1;34m(.0)\u001b[0m\n\u001b[0;32m    421\u001b[0m         \u001b[39mreturn\u001b[39;00m nx\u001b[39m.\u001b[39msingle_source_bellman_ford_path_length(G, v, weight\u001b[39m=\u001b[39mweight)\n\u001b[0;32m    423\u001b[0m \u001b[39mif\u001b[39;00m method \u001b[39min\u001b[39;00m single_source_methods:\n\u001b[0;32m    424\u001b[0m     \u001b[39m# Sum the distances for each (ordered) pair of source and target node.\u001b[39;00m\n\u001b[1;32m--> 425\u001b[0m     s \u001b[39m=\u001b[39m \u001b[39msum\u001b[39m(l \u001b[39mfor\u001b[39;00m u \u001b[39min\u001b[39;00m G \u001b[39mfor\u001b[39;00m l \u001b[39min\u001b[39;00m path_length(u)\u001b[39m.\u001b[39mvalues())\n\u001b[0;32m    426\u001b[0m \u001b[39melse\u001b[39;00m:\n\u001b[0;32m    427\u001b[0m     \u001b[39mif\u001b[39;00m method \u001b[39m==\u001b[39m \u001b[39m\"\u001b[39m\u001b[39mfloyd-warshall\u001b[39m\u001b[39m\"\u001b[39m:\n",
      "File \u001b[1;32mc:\\Users\\caiov\\AppData\\Local\\Programs\\Python\\Python311\\Lib\\site-packages\\networkx\\algorithms\\shortest_paths\\generic.py:417\u001b[0m, in \u001b[0;36maverage_shortest_path_length.<locals>.path_length\u001b[1;34m(v)\u001b[0m\n\u001b[0;32m    415\u001b[0m \u001b[39mdef\u001b[39;00m \u001b[39mpath_length\u001b[39m(v):\n\u001b[0;32m    416\u001b[0m     \u001b[39mif\u001b[39;00m method \u001b[39m==\u001b[39m \u001b[39m\"\u001b[39m\u001b[39munweighted\u001b[39m\u001b[39m\"\u001b[39m:\n\u001b[1;32m--> 417\u001b[0m         \u001b[39mreturn\u001b[39;00m nx\u001b[39m.\u001b[39;49msingle_source_shortest_path_length(G, v)\n\u001b[0;32m    418\u001b[0m     \u001b[39melif\u001b[39;00m method \u001b[39m==\u001b[39m \u001b[39m\"\u001b[39m\u001b[39mdijkstra\u001b[39m\u001b[39m\"\u001b[39m:\n\u001b[0;32m    419\u001b[0m         \u001b[39mreturn\u001b[39;00m nx\u001b[39m.\u001b[39msingle_source_dijkstra_path_length(G, v, weight\u001b[39m=\u001b[39mweight)\n",
      "File \u001b[1;32mc:\\Users\\caiov\\AppData\\Local\\Programs\\Python\\Python311\\Lib\\site-packages\\networkx\\algorithms\\shortest_paths\\unweighted.py:59\u001b[0m, in \u001b[0;36msingle_source_shortest_path_length\u001b[1;34m(G, source, cutoff)\u001b[0m\n\u001b[0;32m     57\u001b[0m     cutoff \u001b[39m=\u001b[39m \u001b[39mfloat\u001b[39m(\u001b[39m\"\u001b[39m\u001b[39minf\u001b[39m\u001b[39m\"\u001b[39m)\n\u001b[0;32m     58\u001b[0m nextlevel \u001b[39m=\u001b[39m {source: \u001b[39m1\u001b[39m}\n\u001b[1;32m---> 59\u001b[0m \u001b[39mreturn\u001b[39;00m \u001b[39mdict\u001b[39m(_single_shortest_path_length(G\u001b[39m.\u001b[39madj, nextlevel, cutoff))\n",
      "File \u001b[1;32mc:\\Users\\caiov\\AppData\\Local\\Programs\\Python\\Python311\\Lib\\site-packages\\networkx\\algorithms\\shortest_paths\\unweighted.py:91\u001b[0m, in \u001b[0;36m_single_shortest_path_length\u001b[1;34m(adj, firstlevel, cutoff)\u001b[0m\n\u001b[0;32m     89\u001b[0m         \u001b[39mreturn\u001b[39;00m\n\u001b[0;32m     90\u001b[0m     \u001b[39mfor\u001b[39;00m v \u001b[39min\u001b[39;00m found:\n\u001b[1;32m---> 91\u001b[0m         nextlevel\u001b[39m.\u001b[39;49mupdate(adj[v])\n\u001b[0;32m     92\u001b[0m     level \u001b[39m+\u001b[39m\u001b[39m=\u001b[39m \u001b[39m1\u001b[39m\n\u001b[0;32m     93\u001b[0m \u001b[39mdel\u001b[39;00m seen\n",
      "\u001b[1;31mKeyboardInterrupt\u001b[0m: "
     ]
    }
   ],
   "source": [
    "opcoes = list(SIMULE.keys())\n",
    "for modelo in opcoes:\n",
    "    main(modelo)"
   ]
  },
  {
   "attachments": {},
   "cell_type": "markdown",
   "metadata": {},
   "source": []
  },
  {
   "cell_type": "code",
   "execution_count": 5,
   "metadata": {},
   "outputs": [
    {
     "name": "stdout",
     "output_type": "stream",
     "text": [
      "Rede Social -- twitter-pequeno\n",
      "<k>: 2.809670517757809 \tN: 23370\n"
     ]
    }
   ],
   "source": [
    "# teste:\n",
    "for rede in redes_sociais.keys():\n",
    "\n",
    "    ######################################\n",
    "    # lidando com a rede social\n",
    "    ######################################\n",
    "    print('Rede Social --', rede)\n",
    "\n",
    "    G = nx.read_edgelist(\"redes/\" + redes_sociais[rede], comments='%', nodetype=int)\n",
    "    grau_medio = np.array(G.degree)[:, 1].mean()\n",
    "    N = len(G)\n",
    "    print('<k>:', grau_medio, '\\tN:', N)"
   ]
  },
  {
   "cell_type": "code",
   "execution_count": 7,
   "metadata": {},
   "outputs": [
    {
     "data": {
      "text/plain": [
       "2.8125802310654686"
      ]
     },
     "execution_count": 7,
     "metadata": {},
     "output_type": "execute_result"
    }
   ],
   "source": [
    "# teste de simulação:\n",
    "aux = nx.erdos_renyi_graph(N, grau_medio/(N-1), seed=42)\n",
    "\n",
    "# plt.figure(figsize=(12,8))\n",
    "# pos = nx.spring_layout(aux, iterations=30, k=0.5)\n",
    "# nx.draw(aux, node_size=20, with_labels=False)\n",
    "\n",
    "MEDIDAS['grau_medio'](aux)"
   ]
  }
 ],
 "metadata": {
  "kernelspec": {
   "display_name": "Python 3",
   "language": "python",
   "name": "python3"
  },
  "language_info": {
   "codemirror_mode": {
    "name": "ipython",
    "version": 3
   },
   "file_extension": ".py",
   "mimetype": "text/x-python",
   "name": "python",
   "nbconvert_exporter": "python",
   "pygments_lexer": "ipython3",
   "version": "3.11.0"
  },
  "orig_nbformat": 4
 },
 "nbformat": 4,
 "nbformat_minor": 2
}
